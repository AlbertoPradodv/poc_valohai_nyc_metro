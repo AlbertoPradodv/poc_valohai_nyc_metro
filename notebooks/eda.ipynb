{
 "cells": [
  {
   "cell_type": "markdown",
   "metadata": {},
   "source": [
    "# Análise Exploratória de Dados - NYC Metro"
   ]
  },
  {
   "cell_type": "code",
   "execution_count": 1,
   "metadata": {},
   "outputs": [],
   "source": [
    "import pandas as pd\n",
    "import matplotlib.pyplot as plt\n",
    "import plotly.graph_objects as go\n",
    "\n",
    "pd.set_option('mode.chained_assignment', None)"
   ]
  },
  {
   "cell_type": "markdown",
   "metadata": {},
   "source": [
    "## Leitura dos dados\n",
    "- Os dados de NYC Metro estão dividios em 8 arquivos CSVs com informações de 2010 à 2017.\n",
    "- O layout é o mesmo para todos\n",
    "- A base de 2017 não contém informações do ano todo\n",
    "- Será feito uma análise com uma das bases (2016)"
   ]
  },
  {
   "cell_type": "code",
   "execution_count": 2,
   "metadata": {},
   "outputs": [],
   "source": [
    "df = pd.read_csv(\"../data/raw/2016.csv.gz\")"
   ]
  },
  {
   "cell_type": "code",
   "execution_count": 3,
   "metadata": {},
   "outputs": [
    {
     "data": {
      "text/plain": [
       "(10130791, 10)"
      ]
     },
     "execution_count": 3,
     "metadata": {},
     "output_type": "execute_result"
    }
   ],
   "source": [
    "df.shape"
   ]
  },
  {
   "cell_type": "code",
   "execution_count": 4,
   "metadata": {},
   "outputs": [
    {
     "data": {
      "text/html": [
       "<div>\n",
       "<style scoped>\n",
       "    .dataframe tbody tr th:only-of-type {\n",
       "        vertical-align: middle;\n",
       "    }\n",
       "\n",
       "    .dataframe tbody tr th {\n",
       "        vertical-align: top;\n",
       "    }\n",
       "\n",
       "    .dataframe thead th {\n",
       "        text-align: right;\n",
       "    }\n",
       "</style>\n",
       "<table border=\"1\" class=\"dataframe\">\n",
       "  <thead>\n",
       "    <tr style=\"text-align: right;\">\n",
       "      <th></th>\n",
       "      <th>time</th>\n",
       "      <th>ca</th>\n",
       "      <th>unit</th>\n",
       "      <th>scp</th>\n",
       "      <th>station</th>\n",
       "      <th>linename</th>\n",
       "      <th>division</th>\n",
       "      <th>desc</th>\n",
       "      <th>entries</th>\n",
       "      <th>exits</th>\n",
       "    </tr>\n",
       "  </thead>\n",
       "  <tbody>\n",
       "    <tr>\n",
       "      <th>0</th>\n",
       "      <td>2016-01-01 00:00:00</td>\n",
       "      <td>A002</td>\n",
       "      <td>R051</td>\n",
       "      <td>02-00-00</td>\n",
       "      <td>59 ST</td>\n",
       "      <td>NQR456</td>\n",
       "      <td>BMT</td>\n",
       "      <td>REGULAR</td>\n",
       "      <td>5477257.0</td>\n",
       "      <td>1848890.0</td>\n",
       "    </tr>\n",
       "    <tr>\n",
       "      <th>1</th>\n",
       "      <td>2016-01-01 00:00:00</td>\n",
       "      <td>A002</td>\n",
       "      <td>R051</td>\n",
       "      <td>02-00-01</td>\n",
       "      <td>59 ST</td>\n",
       "      <td>NQR456</td>\n",
       "      <td>BMT</td>\n",
       "      <td>REGULAR</td>\n",
       "      <td>5043156.0</td>\n",
       "      <td>1101348.0</td>\n",
       "    </tr>\n",
       "    <tr>\n",
       "      <th>2</th>\n",
       "      <td>2016-01-01 00:00:00</td>\n",
       "      <td>A002</td>\n",
       "      <td>R051</td>\n",
       "      <td>02-03-00</td>\n",
       "      <td>59 ST</td>\n",
       "      <td>NQR456</td>\n",
       "      <td>BMT</td>\n",
       "      <td>REGULAR</td>\n",
       "      <td>624029.0</td>\n",
       "      <td>2352788.0</td>\n",
       "    </tr>\n",
       "    <tr>\n",
       "      <th>3</th>\n",
       "      <td>2016-01-01 00:00:00</td>\n",
       "      <td>A002</td>\n",
       "      <td>R051</td>\n",
       "      <td>02-03-01</td>\n",
       "      <td>59 ST</td>\n",
       "      <td>NQR456</td>\n",
       "      <td>BMT</td>\n",
       "      <td>REGULAR</td>\n",
       "      <td>5006519.0</td>\n",
       "      <td>7904628.0</td>\n",
       "    </tr>\n",
       "    <tr>\n",
       "      <th>4</th>\n",
       "      <td>2016-01-01 00:00:00</td>\n",
       "      <td>A002</td>\n",
       "      <td>R051</td>\n",
       "      <td>02-03-02</td>\n",
       "      <td>59 ST</td>\n",
       "      <td>NQR456</td>\n",
       "      <td>BMT</td>\n",
       "      <td>REGULAR</td>\n",
       "      <td>4734413.0</td>\n",
       "      <td>6529179.0</td>\n",
       "    </tr>\n",
       "    <tr>\n",
       "      <th>...</th>\n",
       "      <td>...</td>\n",
       "      <td>...</td>\n",
       "      <td>...</td>\n",
       "      <td>...</td>\n",
       "      <td>...</td>\n",
       "      <td>...</td>\n",
       "      <td>...</td>\n",
       "      <td>...</td>\n",
       "      <td>...</td>\n",
       "      <td>...</td>\n",
       "    </tr>\n",
       "    <tr>\n",
       "      <th>10130786</th>\n",
       "      <td>2016-12-31 23:53:08</td>\n",
       "      <td>PTH11</td>\n",
       "      <td>R545</td>\n",
       "      <td>00-04-00</td>\n",
       "      <td>14TH STREET</td>\n",
       "      <td>1</td>\n",
       "      <td>PTH</td>\n",
       "      <td>REGULAR</td>\n",
       "      <td>1384.0</td>\n",
       "      <td>18140.0</td>\n",
       "    </tr>\n",
       "    <tr>\n",
       "      <th>10130787</th>\n",
       "      <td>2016-12-31 23:54:43</td>\n",
       "      <td>PTH01</td>\n",
       "      <td>R549</td>\n",
       "      <td>00-01-03</td>\n",
       "      <td>NEWARK HW BMEBE</td>\n",
       "      <td>1</td>\n",
       "      <td>PTH</td>\n",
       "      <td>REGULAR</td>\n",
       "      <td>81615.0</td>\n",
       "      <td>138104.0</td>\n",
       "    </tr>\n",
       "    <tr>\n",
       "      <th>10130788</th>\n",
       "      <td>2016-12-31 23:56:19</td>\n",
       "      <td>PTH01</td>\n",
       "      <td>R549</td>\n",
       "      <td>00-01-04</td>\n",
       "      <td>NEWARK HW BMEBE</td>\n",
       "      <td>1</td>\n",
       "      <td>PTH</td>\n",
       "      <td>REGULAR</td>\n",
       "      <td>115.0</td>\n",
       "      <td>44579.0</td>\n",
       "    </tr>\n",
       "    <tr>\n",
       "      <th>10130789</th>\n",
       "      <td>2016-12-31 23:57:15</td>\n",
       "      <td>PTH16</td>\n",
       "      <td>R550</td>\n",
       "      <td>01-01-05</td>\n",
       "      <td>LACKAWANNA</td>\n",
       "      <td>1</td>\n",
       "      <td>PTH</td>\n",
       "      <td>REGULAR</td>\n",
       "      <td>382645.0</td>\n",
       "      <td>210079.0</td>\n",
       "    </tr>\n",
       "    <tr>\n",
       "      <th>10130790</th>\n",
       "      <td>2016-12-31 23:59:00</td>\n",
       "      <td>PTH03</td>\n",
       "      <td>R552</td>\n",
       "      <td>00-00-01</td>\n",
       "      <td>JOURNAL SQUARE</td>\n",
       "      <td>1</td>\n",
       "      <td>PTH</td>\n",
       "      <td>REGULAR</td>\n",
       "      <td>26185.0</td>\n",
       "      <td>3960.0</td>\n",
       "    </tr>\n",
       "  </tbody>\n",
       "</table>\n",
       "<p>10130791 rows × 10 columns</p>\n",
       "</div>"
      ],
      "text/plain": [
       "                         time     ca  unit       scp          station  \\\n",
       "0         2016-01-01 00:00:00   A002  R051  02-00-00            59 ST   \n",
       "1         2016-01-01 00:00:00   A002  R051  02-00-01            59 ST   \n",
       "2         2016-01-01 00:00:00   A002  R051  02-03-00            59 ST   \n",
       "3         2016-01-01 00:00:00   A002  R051  02-03-01            59 ST   \n",
       "4         2016-01-01 00:00:00   A002  R051  02-03-02            59 ST   \n",
       "...                       ...    ...   ...       ...              ...   \n",
       "10130786  2016-12-31 23:53:08  PTH11  R545  00-04-00      14TH STREET   \n",
       "10130787  2016-12-31 23:54:43  PTH01  R549  00-01-03  NEWARK HW BMEBE   \n",
       "10130788  2016-12-31 23:56:19  PTH01  R549  00-01-04  NEWARK HW BMEBE   \n",
       "10130789  2016-12-31 23:57:15  PTH16  R550  01-01-05       LACKAWANNA   \n",
       "10130790  2016-12-31 23:59:00  PTH03  R552  00-00-01   JOURNAL SQUARE   \n",
       "\n",
       "         linename division     desc    entries      exits  \n",
       "0          NQR456      BMT  REGULAR  5477257.0  1848890.0  \n",
       "1          NQR456      BMT  REGULAR  5043156.0  1101348.0  \n",
       "2          NQR456      BMT  REGULAR   624029.0  2352788.0  \n",
       "3          NQR456      BMT  REGULAR  5006519.0  7904628.0  \n",
       "4          NQR456      BMT  REGULAR  4734413.0  6529179.0  \n",
       "...           ...      ...      ...        ...        ...  \n",
       "10130786        1      PTH  REGULAR     1384.0    18140.0  \n",
       "10130787        1      PTH  REGULAR    81615.0   138104.0  \n",
       "10130788        1      PTH  REGULAR      115.0    44579.0  \n",
       "10130789        1      PTH  REGULAR   382645.0   210079.0  \n",
       "10130790        1      PTH  REGULAR    26185.0     3960.0  \n",
       "\n",
       "[10130791 rows x 10 columns]"
      ]
     },
     "execution_count": 4,
     "metadata": {},
     "output_type": "execute_result"
    }
   ],
   "source": [
    "df"
   ]
  },
  {
   "cell_type": "markdown",
   "metadata": {},
   "source": [
    "## Missing data"
   ]
  },
  {
   "cell_type": "code",
   "execution_count": 5,
   "metadata": {},
   "outputs": [
    {
     "data": {
      "text/plain": [
       "time        0\n",
       "ca          0\n",
       "unit        0\n",
       "scp         0\n",
       "station     0\n",
       "linename    0\n",
       "division    0\n",
       "desc        0\n",
       "entries     0\n",
       "exits       0\n",
       "dtype: int64"
      ]
     },
     "execution_count": 5,
     "metadata": {},
     "output_type": "execute_result"
    }
   ],
   "source": [
    "df.isnull().sum()"
   ]
  },
  {
   "cell_type": "markdown",
   "metadata": {},
   "source": [
    "## Tipo dos dados (dtypes)"
   ]
  },
  {
   "cell_type": "code",
   "execution_count": 6,
   "metadata": {},
   "outputs": [
    {
     "data": {
      "text/plain": [
       "time         object\n",
       "ca           object\n",
       "unit         object\n",
       "scp          object\n",
       "station      object\n",
       "linename     object\n",
       "division     object\n",
       "desc         object\n",
       "entries     float64\n",
       "exits       float64\n",
       "dtype: object"
      ]
     },
     "execution_count": 6,
     "metadata": {},
     "output_type": "execute_result"
    }
   ],
   "source": [
    "df.dtypes"
   ]
  },
  {
   "cell_type": "markdown",
   "metadata": {},
   "source": [
    "## Conversão dos dtypes\n",
    "A base de dados é grande, sendo um dos motivos para a análise está sendo feita com um dataset apenas ao invés de juntar todos. Nessa etapa é aplicado uma transformação nos dados que reduz o tamanho em memória. Além de fazer as conversões necessários (por exemplo, datetime)"
   ]
  },
  {
   "cell_type": "code",
   "execution_count": 7,
   "metadata": {},
   "outputs": [],
   "source": [
    "# df.info(memory_usage=\"deep\")"
   ]
  },
  {
   "cell_type": "code",
   "execution_count": 8,
   "metadata": {},
   "outputs": [],
   "source": [
    "df[\"time\"] = pd.to_datetime(df[\"time\"])"
   ]
  },
  {
   "cell_type": "code",
   "execution_count": 9,
   "metadata": {},
   "outputs": [],
   "source": [
    "# categorical_cols = ['ca', 'unit', 'station', 'linename', 'division', 'desc']"
   ]
  },
  {
   "cell_type": "code",
   "execution_count": 10,
   "metadata": {},
   "outputs": [],
   "source": [
    "# df[categorical_cols] = df[categorical_cols].apply(lambda x: x.astype('category'))"
   ]
  },
  {
   "cell_type": "code",
   "execution_count": 11,
   "metadata": {},
   "outputs": [],
   "source": [
    "# df.info(memory_usage=\"deep\")"
   ]
  },
  {
   "cell_type": "markdown",
   "metadata": {},
   "source": [
    "## Estatísticas básicas"
   ]
  },
  {
   "cell_type": "markdown",
   "metadata": {},
   "source": [
    "### Colunas numéricas "
   ]
  },
  {
   "cell_type": "code",
   "execution_count": 12,
   "metadata": {},
   "outputs": [
    {
     "data": {
      "text/html": [
       "<div>\n",
       "<style scoped>\n",
       "    .dataframe tbody tr th:only-of-type {\n",
       "        vertical-align: middle;\n",
       "    }\n",
       "\n",
       "    .dataframe tbody tr th {\n",
       "        vertical-align: top;\n",
       "    }\n",
       "\n",
       "    .dataframe thead th {\n",
       "        text-align: right;\n",
       "    }\n",
       "</style>\n",
       "<table border=\"1\" class=\"dataframe\">\n",
       "  <thead>\n",
       "    <tr style=\"text-align: right;\">\n",
       "      <th></th>\n",
       "      <th>entries</th>\n",
       "      <th>exits</th>\n",
       "    </tr>\n",
       "  </thead>\n",
       "  <tbody>\n",
       "    <tr>\n",
       "      <th>count</th>\n",
       "      <td>1.013079e+07</td>\n",
       "      <td>1.013079e+07</td>\n",
       "    </tr>\n",
       "    <tr>\n",
       "      <th>mean</th>\n",
       "      <td>3.553558e+07</td>\n",
       "      <td>2.857013e+07</td>\n",
       "    </tr>\n",
       "    <tr>\n",
       "      <th>std</th>\n",
       "      <td>1.956976e+08</td>\n",
       "      <td>1.757205e+08</td>\n",
       "    </tr>\n",
       "    <tr>\n",
       "      <th>min</th>\n",
       "      <td>0.000000e+00</td>\n",
       "      <td>0.000000e+00</td>\n",
       "    </tr>\n",
       "    <tr>\n",
       "      <th>25%</th>\n",
       "      <td>5.728980e+05</td>\n",
       "      <td>2.939460e+05</td>\n",
       "    </tr>\n",
       "    <tr>\n",
       "      <th>50%</th>\n",
       "      <td>2.598583e+06</td>\n",
       "      <td>1.508472e+06</td>\n",
       "    </tr>\n",
       "    <tr>\n",
       "      <th>75%</th>\n",
       "      <td>6.553944e+06</td>\n",
       "      <td>4.660509e+06</td>\n",
       "    </tr>\n",
       "    <tr>\n",
       "      <th>max</th>\n",
       "      <td>2.147484e+09</td>\n",
       "      <td>2.097170e+09</td>\n",
       "    </tr>\n",
       "  </tbody>\n",
       "</table>\n",
       "</div>"
      ],
      "text/plain": [
       "            entries         exits\n",
       "count  1.013079e+07  1.013079e+07\n",
       "mean   3.553558e+07  2.857013e+07\n",
       "std    1.956976e+08  1.757205e+08\n",
       "min    0.000000e+00  0.000000e+00\n",
       "25%    5.728980e+05  2.939460e+05\n",
       "50%    2.598583e+06  1.508472e+06\n",
       "75%    6.553944e+06  4.660509e+06\n",
       "max    2.147484e+09  2.097170e+09"
      ]
     },
     "execution_count": 12,
     "metadata": {},
     "output_type": "execute_result"
    }
   ],
   "source": [
    "df.describe()"
   ]
  },
  {
   "cell_type": "markdown",
   "metadata": {},
   "source": [
    "### Categorias"
   ]
  },
  {
   "cell_type": "code",
   "execution_count": 13,
   "metadata": {},
   "outputs": [
    {
     "data": {
      "text/html": [
       "<div>\n",
       "<style scoped>\n",
       "    .dataframe tbody tr th:only-of-type {\n",
       "        vertical-align: middle;\n",
       "    }\n",
       "\n",
       "    .dataframe tbody tr th {\n",
       "        vertical-align: top;\n",
       "    }\n",
       "\n",
       "    .dataframe thead th {\n",
       "        text-align: right;\n",
       "    }\n",
       "</style>\n",
       "<table border=\"1\" class=\"dataframe\">\n",
       "  <thead>\n",
       "    <tr style=\"text-align: right;\">\n",
       "      <th></th>\n",
       "      <th>ca</th>\n",
       "      <th>unit</th>\n",
       "      <th>scp</th>\n",
       "      <th>station</th>\n",
       "      <th>linename</th>\n",
       "      <th>division</th>\n",
       "      <th>desc</th>\n",
       "    </tr>\n",
       "  </thead>\n",
       "  <tbody>\n",
       "    <tr>\n",
       "      <th>count</th>\n",
       "      <td>10130791</td>\n",
       "      <td>10130791</td>\n",
       "      <td>10130791</td>\n",
       "      <td>10130791</td>\n",
       "      <td>10130791</td>\n",
       "      <td>10130791</td>\n",
       "      <td>10130791</td>\n",
       "    </tr>\n",
       "    <tr>\n",
       "      <th>unique</th>\n",
       "      <td>737</td>\n",
       "      <td>470</td>\n",
       "      <td>219</td>\n",
       "      <td>379</td>\n",
       "      <td>128</td>\n",
       "      <td>6</td>\n",
       "      <td>2</td>\n",
       "    </tr>\n",
       "    <tr>\n",
       "      <th>top</th>\n",
       "      <td>PTH05</td>\n",
       "      <td>R549</td>\n",
       "      <td>00-00-00</td>\n",
       "      <td>34 ST-PENN STA</td>\n",
       "      <td>1</td>\n",
       "      <td>IRT</td>\n",
       "      <td>REGULAR</td>\n",
       "    </tr>\n",
       "    <tr>\n",
       "      <th>freq</th>\n",
       "      <td>53905</td>\n",
       "      <td>129870</td>\n",
       "      <td>1014726</td>\n",
       "      <td>220547</td>\n",
       "      <td>1141700</td>\n",
       "      <td>3740192</td>\n",
       "      <td>10088401</td>\n",
       "    </tr>\n",
       "  </tbody>\n",
       "</table>\n",
       "</div>"
      ],
      "text/plain": [
       "              ca      unit       scp         station  linename  division  \\\n",
       "count   10130791  10130791  10130791        10130791  10130791  10130791   \n",
       "unique       737       470       219             379       128         6   \n",
       "top        PTH05      R549  00-00-00  34 ST-PENN STA         1       IRT   \n",
       "freq       53905    129870   1014726          220547   1141700   3740192   \n",
       "\n",
       "            desc  \n",
       "count   10130791  \n",
       "unique         2  \n",
       "top      REGULAR  \n",
       "freq    10088401  "
      ]
     },
     "execution_count": 13,
     "metadata": {},
     "output_type": "execute_result"
    }
   ],
   "source": [
    "df.describe(include=['O', 'category'])"
   ]
  },
  {
   "cell_type": "markdown",
   "metadata": {},
   "source": [
    "### Data"
   ]
  },
  {
   "cell_type": "code",
   "execution_count": 14,
   "metadata": {},
   "outputs": [
    {
     "name": "stderr",
     "output_type": "stream",
     "text": [
      "/home/milton/anaconda3/envs/nyc-env/lib/python3.7/site-packages/ipykernel_launcher.py:1: FutureWarning: Treating datetime data as categorical rather than numeric in `.describe` is deprecated and will be removed in a future version of pandas. Specify `datetime_is_numeric=True` to silence this warning and adopt the future behavior now.\n",
      "  \"\"\"Entry point for launching an IPython kernel.\n"
     ]
    },
    {
     "data": {
      "text/html": [
       "<div>\n",
       "<style scoped>\n",
       "    .dataframe tbody tr th:only-of-type {\n",
       "        vertical-align: middle;\n",
       "    }\n",
       "\n",
       "    .dataframe tbody tr th {\n",
       "        vertical-align: top;\n",
       "    }\n",
       "\n",
       "    .dataframe thead th {\n",
       "        text-align: right;\n",
       "    }\n",
       "</style>\n",
       "<table border=\"1\" class=\"dataframe\">\n",
       "  <thead>\n",
       "    <tr style=\"text-align: right;\">\n",
       "      <th></th>\n",
       "      <th>time</th>\n",
       "    </tr>\n",
       "  </thead>\n",
       "  <tbody>\n",
       "    <tr>\n",
       "      <th>count</th>\n",
       "      <td>10130791</td>\n",
       "    </tr>\n",
       "    <tr>\n",
       "      <th>unique</th>\n",
       "      <td>585510</td>\n",
       "    </tr>\n",
       "    <tr>\n",
       "      <th>top</th>\n",
       "      <td>2016-10-01 12:00:00</td>\n",
       "    </tr>\n",
       "    <tr>\n",
       "      <th>freq</th>\n",
       "      <td>2419</td>\n",
       "    </tr>\n",
       "    <tr>\n",
       "      <th>first</th>\n",
       "      <td>2016-01-01 00:00:00</td>\n",
       "    </tr>\n",
       "    <tr>\n",
       "      <th>last</th>\n",
       "      <td>2016-12-31 23:59:00</td>\n",
       "    </tr>\n",
       "  </tbody>\n",
       "</table>\n",
       "</div>"
      ],
      "text/plain": [
       "                       time\n",
       "count              10130791\n",
       "unique               585510\n",
       "top     2016-10-01 12:00:00\n",
       "freq                   2419\n",
       "first   2016-01-01 00:00:00\n",
       "last    2016-12-31 23:59:00"
      ]
     },
     "execution_count": 14,
     "metadata": {},
     "output_type": "execute_result"
    }
   ],
   "source": [
    "df.describe(include=['datetime'])"
   ]
  },
  {
   "cell_type": "markdown",
   "metadata": {},
   "source": [
    "## Distribuição de \"Desc\""
   ]
  },
  {
   "cell_type": "code",
   "execution_count": 15,
   "metadata": {},
   "outputs": [
    {
     "data": {
      "text/plain": [
       "REGULAR       0.995816\n",
       "RECOVR AUD    0.004184\n",
       "Name: desc, dtype: float64"
      ]
     },
     "execution_count": 15,
     "metadata": {},
     "output_type": "execute_result"
    }
   ],
   "source": [
    "df['desc'].value_counts(normalize=True)"
   ]
  },
  {
   "cell_type": "markdown",
   "metadata": {},
   "source": [
    "## Grão da base\n",
    "Análise do grão da base, identificação das séries temporais (nível de detalhe), distribuição das categorias.\n",
    "Para ajudar a entender o contexto, os dados e a formação das linhas, foi utilizado informações do Wipedia (https://pt.wikipedia.org/wiki/Metropolitano_de_Nova_Iorque)."
   ]
  },
  {
   "cell_type": "code",
   "execution_count": 16,
   "metadata": {},
   "outputs": [
    {
     "data": {
      "text/html": [
       "<div>\n",
       "<style scoped>\n",
       "    .dataframe tbody tr th:only-of-type {\n",
       "        vertical-align: middle;\n",
       "    }\n",
       "\n",
       "    .dataframe tbody tr th {\n",
       "        vertical-align: top;\n",
       "    }\n",
       "\n",
       "    .dataframe thead th {\n",
       "        text-align: right;\n",
       "    }\n",
       "</style>\n",
       "<table border=\"1\" class=\"dataframe\">\n",
       "  <thead>\n",
       "    <tr style=\"text-align: right;\">\n",
       "      <th></th>\n",
       "      <th>time</th>\n",
       "      <th>unit</th>\n",
       "      <th>scp</th>\n",
       "      <th>station</th>\n",
       "      <th>linename</th>\n",
       "      <th>division</th>\n",
       "      <th>desc</th>\n",
       "      <th>entries</th>\n",
       "      <th>exits</th>\n",
       "    </tr>\n",
       "    <tr>\n",
       "      <th>ca</th>\n",
       "      <th></th>\n",
       "      <th></th>\n",
       "      <th></th>\n",
       "      <th></th>\n",
       "      <th></th>\n",
       "      <th></th>\n",
       "      <th></th>\n",
       "      <th></th>\n",
       "      <th></th>\n",
       "    </tr>\n",
       "  </thead>\n",
       "  <tbody>\n",
       "    <tr>\n",
       "      <th>A002</th>\n",
       "      <td>2216</td>\n",
       "      <td>1</td>\n",
       "      <td>12</td>\n",
       "      <td>1</td>\n",
       "      <td>2</td>\n",
       "      <td>1</td>\n",
       "      <td>2</td>\n",
       "      <td>21667</td>\n",
       "      <td>21394</td>\n",
       "    </tr>\n",
       "    <tr>\n",
       "      <th>A006</th>\n",
       "      <td>2228</td>\n",
       "      <td>1</td>\n",
       "      <td>8</td>\n",
       "      <td>1</td>\n",
       "      <td>2</td>\n",
       "      <td>1</td>\n",
       "      <td>2</td>\n",
       "      <td>17427</td>\n",
       "      <td>17328</td>\n",
       "    </tr>\n",
       "    <tr>\n",
       "      <th>A007</th>\n",
       "      <td>2219</td>\n",
       "      <td>1</td>\n",
       "      <td>6</td>\n",
       "      <td>1</td>\n",
       "      <td>2</td>\n",
       "      <td>1</td>\n",
       "      <td>2</td>\n",
       "      <td>8740</td>\n",
       "      <td>8692</td>\n",
       "    </tr>\n",
       "    <tr>\n",
       "      <th>A010</th>\n",
       "      <td>2231</td>\n",
       "      <td>1</td>\n",
       "      <td>8</td>\n",
       "      <td>1</td>\n",
       "      <td>2</td>\n",
       "      <td>1</td>\n",
       "      <td>2</td>\n",
       "      <td>17742</td>\n",
       "      <td>17786</td>\n",
       "    </tr>\n",
       "    <tr>\n",
       "      <th>A011</th>\n",
       "      <td>2265</td>\n",
       "      <td>1</td>\n",
       "      <td>6</td>\n",
       "      <td>1</td>\n",
       "      <td>2</td>\n",
       "      <td>1</td>\n",
       "      <td>2</td>\n",
       "      <td>11516</td>\n",
       "      <td>11806</td>\n",
       "    </tr>\n",
       "    <tr>\n",
       "      <th>...</th>\n",
       "      <td>...</td>\n",
       "      <td>...</td>\n",
       "      <td>...</td>\n",
       "      <td>...</td>\n",
       "      <td>...</td>\n",
       "      <td>...</td>\n",
       "      <td>...</td>\n",
       "      <td>...</td>\n",
       "      <td>...</td>\n",
       "    </tr>\n",
       "    <tr>\n",
       "      <th>S101</th>\n",
       "      <td>2350</td>\n",
       "      <td>1</td>\n",
       "      <td>13</td>\n",
       "      <td>1</td>\n",
       "      <td>1</td>\n",
       "      <td>1</td>\n",
       "      <td>2</td>\n",
       "      <td>27304</td>\n",
       "      <td>61</td>\n",
       "    </tr>\n",
       "    <tr>\n",
       "      <th>S101A</th>\n",
       "      <td>2173</td>\n",
       "      <td>1</td>\n",
       "      <td>13</td>\n",
       "      <td>1</td>\n",
       "      <td>1</td>\n",
       "      <td>1</td>\n",
       "      <td>2</td>\n",
       "      <td>23175</td>\n",
       "      <td>70</td>\n",
       "    </tr>\n",
       "    <tr>\n",
       "      <th>S102</th>\n",
       "      <td>2270</td>\n",
       "      <td>1</td>\n",
       "      <td>7</td>\n",
       "      <td>1</td>\n",
       "      <td>1</td>\n",
       "      <td>1</td>\n",
       "      <td>2</td>\n",
       "      <td>10634</td>\n",
       "      <td>15</td>\n",
       "    </tr>\n",
       "    <tr>\n",
       "      <th>TRAM1</th>\n",
       "      <td>2197</td>\n",
       "      <td>1</td>\n",
       "      <td>4</td>\n",
       "      <td>1</td>\n",
       "      <td>1</td>\n",
       "      <td>1</td>\n",
       "      <td>2</td>\n",
       "      <td>6897</td>\n",
       "      <td>4826</td>\n",
       "    </tr>\n",
       "    <tr>\n",
       "      <th>TRAM2</th>\n",
       "      <td>2214</td>\n",
       "      <td>1</td>\n",
       "      <td>6</td>\n",
       "      <td>1</td>\n",
       "      <td>1</td>\n",
       "      <td>1</td>\n",
       "      <td>2</td>\n",
       "      <td>8414</td>\n",
       "      <td>6705</td>\n",
       "    </tr>\n",
       "  </tbody>\n",
       "</table>\n",
       "<p>737 rows × 9 columns</p>\n",
       "</div>"
      ],
      "text/plain": [
       "       time  unit  scp  station  linename  division  desc  entries  exits\n",
       "ca                                                                       \n",
       "A002   2216     1   12        1         2         1     2    21667  21394\n",
       "A006   2228     1    8        1         2         1     2    17427  17328\n",
       "A007   2219     1    6        1         2         1     2     8740   8692\n",
       "A010   2231     1    8        1         2         1     2    17742  17786\n",
       "A011   2265     1    6        1         2         1     2    11516  11806\n",
       "...     ...   ...  ...      ...       ...       ...   ...      ...    ...\n",
       "S101   2350     1   13        1         1         1     2    27304     61\n",
       "S101A  2173     1   13        1         1         1     2    23175     70\n",
       "S102   2270     1    7        1         1         1     2    10634     15\n",
       "TRAM1  2197     1    4        1         1         1     2     6897   4826\n",
       "TRAM2  2214     1    6        1         1         1     2     8414   6705\n",
       "\n",
       "[737 rows x 9 columns]"
      ]
     },
     "execution_count": 16,
     "metadata": {},
     "output_type": "execute_result"
    }
   ],
   "source": [
    "df_nunique_values = df.groupby('ca').nunique()\n",
    "df_nunique_values"
   ]
  },
  {
   "cell_type": "code",
   "execution_count": 17,
   "metadata": {},
   "outputs": [
    {
     "data": {
      "text/plain": [
       "time        53792\n",
       "unit            1\n",
       "scp            27\n",
       "station         2\n",
       "linename        2\n",
       "division        1\n",
       "desc            2\n",
       "entries     44419\n",
       "exits       43362\n",
       "dtype: int64"
      ]
     },
     "execution_count": 17,
     "metadata": {},
     "output_type": "execute_result"
    }
   ],
   "source": [
    "df_nunique_values.max()"
   ]
  },
  {
   "cell_type": "code",
   "execution_count": 18,
   "metadata": {},
   "outputs": [
    {
     "data": {
      "text/plain": [
       "time        737\n",
       "unit          0\n",
       "scp         735\n",
       "station       3\n",
       "linename     61\n",
       "division      0\n",
       "desc        713\n",
       "entries     736\n",
       "exits       737\n",
       "dtype: int64"
      ]
     },
     "execution_count": 18,
     "metadata": {},
     "output_type": "execute_result"
    }
   ],
   "source": [
    "# Ocorrência de valores distintos\n",
    "(df_nunique_values > 1).sum()"
   ]
  },
  {
   "cell_type": "markdown",
   "metadata": {},
   "source": [
    "- É possível notar que dado uma CA (Control Area), os valores de UNIT e DIVISION são os mesmos.\n",
    "- As SCPs (Subunits) variam bastante, importante para formação do grão da base e na identificação das séries. \n",
    "- STATION e LINENAME aparecem com poucas variações.\n",
    "- DESC, que tem apenas dois valores possíveis (em 2016), não está vinculado ao CA. Ocorre bastante\n",
    "- Algumas informações ENTRIES, EXITS e TIME variam bastante, o que já era esperado."
   ]
  },
  {
   "cell_type": "code",
   "execution_count": 19,
   "metadata": {},
   "outputs": [
    {
     "data": {
      "text/html": [
       "<div>\n",
       "<style scoped>\n",
       "    .dataframe tbody tr th:only-of-type {\n",
       "        vertical-align: middle;\n",
       "    }\n",
       "\n",
       "    .dataframe tbody tr th {\n",
       "        vertical-align: top;\n",
       "    }\n",
       "\n",
       "    .dataframe thead th {\n",
       "        text-align: right;\n",
       "    }\n",
       "</style>\n",
       "<table border=\"1\" class=\"dataframe\">\n",
       "  <thead>\n",
       "    <tr style=\"text-align: right;\">\n",
       "      <th></th>\n",
       "      <th>time</th>\n",
       "      <th>unit</th>\n",
       "      <th>scp</th>\n",
       "      <th>station</th>\n",
       "      <th>linename</th>\n",
       "      <th>division</th>\n",
       "      <th>desc</th>\n",
       "      <th>entries</th>\n",
       "      <th>exits</th>\n",
       "    </tr>\n",
       "    <tr>\n",
       "      <th>ca</th>\n",
       "      <th></th>\n",
       "      <th></th>\n",
       "      <th></th>\n",
       "      <th></th>\n",
       "      <th></th>\n",
       "      <th></th>\n",
       "      <th></th>\n",
       "      <th></th>\n",
       "      <th></th>\n",
       "    </tr>\n",
       "  </thead>\n",
       "  <tbody>\n",
       "    <tr>\n",
       "      <th>C027</th>\n",
       "      <td>2217</td>\n",
       "      <td>1</td>\n",
       "      <td>5</td>\n",
       "      <td>2</td>\n",
       "      <td>1</td>\n",
       "      <td>1</td>\n",
       "      <td>2</td>\n",
       "      <td>11007</td>\n",
       "      <td>11037</td>\n",
       "    </tr>\n",
       "    <tr>\n",
       "      <th>C028</th>\n",
       "      <td>2215</td>\n",
       "      <td>1</td>\n",
       "      <td>4</td>\n",
       "      <td>2</td>\n",
       "      <td>1</td>\n",
       "      <td>1</td>\n",
       "      <td>2</td>\n",
       "      <td>4401</td>\n",
       "      <td>3861</td>\n",
       "    </tr>\n",
       "    <tr>\n",
       "      <th>JFK03</th>\n",
       "      <td>2993</td>\n",
       "      <td>1</td>\n",
       "      <td>11</td>\n",
       "      <td>2</td>\n",
       "      <td>1</td>\n",
       "      <td>1</td>\n",
       "      <td>2</td>\n",
       "      <td>20520</td>\n",
       "      <td>20808</td>\n",
       "    </tr>\n",
       "  </tbody>\n",
       "</table>\n",
       "</div>"
      ],
      "text/plain": [
       "       time  unit  scp  station  linename  division  desc  entries  exits\n",
       "ca                                                                       \n",
       "C027   2217     1    5        2         1         1     2    11007  11037\n",
       "C028   2215     1    4        2         1         1     2     4401   3861\n",
       "JFK03  2993     1   11        2         1         1     2    20520  20808"
      ]
     },
     "execution_count": 19,
     "metadata": {},
     "output_type": "execute_result"
    }
   ],
   "source": [
    "# CAs com mais de um tipo STATION\n",
    "df_nunique_values[df_nunique_values['station'] > 1]"
   ]
  },
  {
   "cell_type": "code",
   "execution_count": 20,
   "metadata": {},
   "outputs": [
    {
     "data": {
      "text/html": [
       "<div>\n",
       "<style scoped>\n",
       "    .dataframe tbody tr th:only-of-type {\n",
       "        vertical-align: middle;\n",
       "    }\n",
       "\n",
       "    .dataframe tbody tr th {\n",
       "        vertical-align: top;\n",
       "    }\n",
       "\n",
       "    .dataframe thead th {\n",
       "        text-align: right;\n",
       "    }\n",
       "</style>\n",
       "<table border=\"1\" class=\"dataframe\">\n",
       "  <thead>\n",
       "    <tr style=\"text-align: right;\">\n",
       "      <th></th>\n",
       "      <th></th>\n",
       "      <th>time</th>\n",
       "      <th>unit</th>\n",
       "      <th>station</th>\n",
       "      <th>linename</th>\n",
       "      <th>division</th>\n",
       "      <th>desc</th>\n",
       "      <th>entries</th>\n",
       "      <th>exits</th>\n",
       "    </tr>\n",
       "    <tr>\n",
       "      <th>ca</th>\n",
       "      <th>scp</th>\n",
       "      <th></th>\n",
       "      <th></th>\n",
       "      <th></th>\n",
       "      <th></th>\n",
       "      <th></th>\n",
       "      <th></th>\n",
       "      <th></th>\n",
       "      <th></th>\n",
       "    </tr>\n",
       "  </thead>\n",
       "  <tbody>\n",
       "    <tr>\n",
       "      <th rowspan=\"5\" valign=\"top\">A002</th>\n",
       "      <th>02-00-00</th>\n",
       "      <td>2173</td>\n",
       "      <td>1</td>\n",
       "      <td>1</td>\n",
       "      <td>2</td>\n",
       "      <td>1</td>\n",
       "      <td>2</td>\n",
       "      <td>2106</td>\n",
       "      <td>2144</td>\n",
       "    </tr>\n",
       "    <tr>\n",
       "      <th>02-00-01</th>\n",
       "      <td>2189</td>\n",
       "      <td>1</td>\n",
       "      <td>1</td>\n",
       "      <td>2</td>\n",
       "      <td>1</td>\n",
       "      <td>2</td>\n",
       "      <td>2137</td>\n",
       "      <td>2152</td>\n",
       "    </tr>\n",
       "    <tr>\n",
       "      <th>02-03-00</th>\n",
       "      <td>2216</td>\n",
       "      <td>1</td>\n",
       "      <td>1</td>\n",
       "      <td>2</td>\n",
       "      <td>1</td>\n",
       "      <td>2</td>\n",
       "      <td>2183</td>\n",
       "      <td>2196</td>\n",
       "    </tr>\n",
       "    <tr>\n",
       "      <th>02-03-01</th>\n",
       "      <td>2216</td>\n",
       "      <td>1</td>\n",
       "      <td>1</td>\n",
       "      <td>2</td>\n",
       "      <td>1</td>\n",
       "      <td>2</td>\n",
       "      <td>2062</td>\n",
       "      <td>2199</td>\n",
       "    </tr>\n",
       "    <tr>\n",
       "      <th>02-03-02</th>\n",
       "      <td>2214</td>\n",
       "      <td>1</td>\n",
       "      <td>1</td>\n",
       "      <td>2</td>\n",
       "      <td>1</td>\n",
       "      <td>2</td>\n",
       "      <td>2132</td>\n",
       "      <td>2198</td>\n",
       "    </tr>\n",
       "    <tr>\n",
       "      <th>...</th>\n",
       "      <th>...</th>\n",
       "      <td>...</td>\n",
       "      <td>...</td>\n",
       "      <td>...</td>\n",
       "      <td>...</td>\n",
       "      <td>...</td>\n",
       "      <td>...</td>\n",
       "      <td>...</td>\n",
       "      <td>...</td>\n",
       "    </tr>\n",
       "    <tr>\n",
       "      <th rowspan=\"5\" valign=\"top\">TRAM2</th>\n",
       "      <th>00-00-01</th>\n",
       "      <td>2213</td>\n",
       "      <td>1</td>\n",
       "      <td>1</td>\n",
       "      <td>1</td>\n",
       "      <td>1</td>\n",
       "      <td>2</td>\n",
       "      <td>2097</td>\n",
       "      <td>1836</td>\n",
       "    </tr>\n",
       "    <tr>\n",
       "      <th>00-03-00</th>\n",
       "      <td>2211</td>\n",
       "      <td>1</td>\n",
       "      <td>1</td>\n",
       "      <td>1</td>\n",
       "      <td>1</td>\n",
       "      <td>2</td>\n",
       "      <td>1907</td>\n",
       "      <td>1493</td>\n",
       "    </tr>\n",
       "    <tr>\n",
       "      <th>00-03-01</th>\n",
       "      <td>2213</td>\n",
       "      <td>1</td>\n",
       "      <td>1</td>\n",
       "      <td>1</td>\n",
       "      <td>1</td>\n",
       "      <td>2</td>\n",
       "      <td>1944</td>\n",
       "      <td>1575</td>\n",
       "    </tr>\n",
       "    <tr>\n",
       "      <th>00-05-00</th>\n",
       "      <td>2212</td>\n",
       "      <td>1</td>\n",
       "      <td>1</td>\n",
       "      <td>1</td>\n",
       "      <td>1</td>\n",
       "      <td>2</td>\n",
       "      <td>354</td>\n",
       "      <td>1</td>\n",
       "    </tr>\n",
       "    <tr>\n",
       "      <th>00-05-01</th>\n",
       "      <td>2212</td>\n",
       "      <td>1</td>\n",
       "      <td>1</td>\n",
       "      <td>1</td>\n",
       "      <td>1</td>\n",
       "      <td>2</td>\n",
       "      <td>1</td>\n",
       "      <td>32</td>\n",
       "    </tr>\n",
       "  </tbody>\n",
       "</table>\n",
       "<p>4719 rows × 8 columns</p>\n",
       "</div>"
      ],
      "text/plain": [
       "                time  unit  station  linename  division  desc  entries  exits\n",
       "ca    scp                                                                    \n",
       "A002  02-00-00  2173     1        1         2         1     2     2106   2144\n",
       "      02-00-01  2189     1        1         2         1     2     2137   2152\n",
       "      02-03-00  2216     1        1         2         1     2     2183   2196\n",
       "      02-03-01  2216     1        1         2         1     2     2062   2199\n",
       "      02-03-02  2214     1        1         2         1     2     2132   2198\n",
       "...              ...   ...      ...       ...       ...   ...      ...    ...\n",
       "TRAM2 00-00-01  2213     1        1         1         1     2     2097   1836\n",
       "      00-03-00  2211     1        1         1         1     2     1907   1493\n",
       "      00-03-01  2213     1        1         1         1     2     1944   1575\n",
       "      00-05-00  2212     1        1         1         1     2      354      1\n",
       "      00-05-01  2212     1        1         1         1     2        1     32\n",
       "\n",
       "[4719 rows x 8 columns]"
      ]
     },
     "execution_count": 20,
     "metadata": {},
     "output_type": "execute_result"
    }
   ],
   "source": [
    "# Analisando o agrupamento por CA e SCP\n",
    "df_nunique_values_ca_scp = df.groupby(['ca', 'scp']).nunique()\n",
    "df_nunique_values_ca_scp"
   ]
  },
  {
   "cell_type": "code",
   "execution_count": 21,
   "metadata": {},
   "outputs": [
    {
     "data": {
      "text/plain": [
       "time        2401\n",
       "unit           1\n",
       "station        2\n",
       "linename       2\n",
       "division       1\n",
       "desc           2\n",
       "entries     2322\n",
       "exits       2358\n",
       "dtype: int64"
      ]
     },
     "execution_count": 21,
     "metadata": {},
     "output_type": "execute_result"
    }
   ],
   "source": [
    "df_nunique_values_ca_scp.max()"
   ]
  },
  {
   "cell_type": "code",
   "execution_count": 22,
   "metadata": {},
   "outputs": [
    {
     "data": {
      "text/plain": [
       "time        4706\n",
       "unit           0\n",
       "station       19\n",
       "linename     485\n",
       "division       0\n",
       "desc        4433\n",
       "entries     4467\n",
       "exits       4495\n",
       "dtype: int64"
      ]
     },
     "execution_count": 22,
     "metadata": {},
     "output_type": "execute_result"
    }
   ],
   "source": [
    "# Ocorrência de valores distintos\n",
    "(df_nunique_values_ca_scp > 1).sum()"
   ]
  },
  {
   "cell_type": "code",
   "execution_count": 23,
   "metadata": {},
   "outputs": [
    {
     "data": {
      "text/html": [
       "<div>\n",
       "<style scoped>\n",
       "    .dataframe tbody tr th:only-of-type {\n",
       "        vertical-align: middle;\n",
       "    }\n",
       "\n",
       "    .dataframe tbody tr th {\n",
       "        vertical-align: top;\n",
       "    }\n",
       "\n",
       "    .dataframe thead th {\n",
       "        text-align: right;\n",
       "    }\n",
       "</style>\n",
       "<table border=\"1\" class=\"dataframe\">\n",
       "  <thead>\n",
       "    <tr style=\"text-align: right;\">\n",
       "      <th></th>\n",
       "      <th></th>\n",
       "      <th>time</th>\n",
       "      <th>unit</th>\n",
       "      <th>station</th>\n",
       "      <th>linename</th>\n",
       "      <th>division</th>\n",
       "      <th>desc</th>\n",
       "      <th>entries</th>\n",
       "      <th>exits</th>\n",
       "    </tr>\n",
       "    <tr>\n",
       "      <th>ca</th>\n",
       "      <th>scp</th>\n",
       "      <th></th>\n",
       "      <th></th>\n",
       "      <th></th>\n",
       "      <th></th>\n",
       "      <th></th>\n",
       "      <th></th>\n",
       "      <th></th>\n",
       "      <th></th>\n",
       "    </tr>\n",
       "  </thead>\n",
       "  <tbody>\n",
       "    <tr>\n",
       "      <th rowspan=\"5\" valign=\"top\">C027</th>\n",
       "      <th>00-00-00</th>\n",
       "      <td>2216</td>\n",
       "      <td>1</td>\n",
       "      <td>2</td>\n",
       "      <td>1</td>\n",
       "      <td>1</td>\n",
       "      <td>2</td>\n",
       "      <td>2209</td>\n",
       "      <td>2210</td>\n",
       "    </tr>\n",
       "    <tr>\n",
       "      <th>00-00-01</th>\n",
       "      <td>2215</td>\n",
       "      <td>1</td>\n",
       "      <td>2</td>\n",
       "      <td>1</td>\n",
       "      <td>1</td>\n",
       "      <td>2</td>\n",
       "      <td>2213</td>\n",
       "      <td>2207</td>\n",
       "    </tr>\n",
       "    <tr>\n",
       "      <th>00-00-02</th>\n",
       "      <td>2217</td>\n",
       "      <td>1</td>\n",
       "      <td>2</td>\n",
       "      <td>1</td>\n",
       "      <td>1</td>\n",
       "      <td>2</td>\n",
       "      <td>2178</td>\n",
       "      <td>2208</td>\n",
       "    </tr>\n",
       "    <tr>\n",
       "      <th>00-03-00</th>\n",
       "      <td>2216</td>\n",
       "      <td>1</td>\n",
       "      <td>2</td>\n",
       "      <td>1</td>\n",
       "      <td>1</td>\n",
       "      <td>2</td>\n",
       "      <td>2194</td>\n",
       "      <td>2204</td>\n",
       "    </tr>\n",
       "    <tr>\n",
       "      <th>00-03-01</th>\n",
       "      <td>2215</td>\n",
       "      <td>1</td>\n",
       "      <td>2</td>\n",
       "      <td>1</td>\n",
       "      <td>1</td>\n",
       "      <td>2</td>\n",
       "      <td>2213</td>\n",
       "      <td>2208</td>\n",
       "    </tr>\n",
       "    <tr>\n",
       "      <th rowspan=\"4\" valign=\"top\">C028</th>\n",
       "      <th>01-05-00</th>\n",
       "      <td>2211</td>\n",
       "      <td>1</td>\n",
       "      <td>2</td>\n",
       "      <td>1</td>\n",
       "      <td>1</td>\n",
       "      <td>2</td>\n",
       "      <td>104</td>\n",
       "      <td>1</td>\n",
       "    </tr>\n",
       "    <tr>\n",
       "      <th>01-05-01</th>\n",
       "      <td>2215</td>\n",
       "      <td>1</td>\n",
       "      <td>2</td>\n",
       "      <td>1</td>\n",
       "      <td>1</td>\n",
       "      <td>2</td>\n",
       "      <td>1</td>\n",
       "      <td>26</td>\n",
       "    </tr>\n",
       "    <tr>\n",
       "      <th>01-06-00</th>\n",
       "      <td>2212</td>\n",
       "      <td>1</td>\n",
       "      <td>2</td>\n",
       "      <td>1</td>\n",
       "      <td>1</td>\n",
       "      <td>2</td>\n",
       "      <td>2209</td>\n",
       "      <td>2202</td>\n",
       "    </tr>\n",
       "    <tr>\n",
       "      <th>01-06-01</th>\n",
       "      <td>2211</td>\n",
       "      <td>1</td>\n",
       "      <td>2</td>\n",
       "      <td>1</td>\n",
       "      <td>1</td>\n",
       "      <td>2</td>\n",
       "      <td>2087</td>\n",
       "      <td>1632</td>\n",
       "    </tr>\n",
       "    <tr>\n",
       "      <th rowspan=\"10\" valign=\"top\">JFK03</th>\n",
       "      <th>00-00-01</th>\n",
       "      <td>2385</td>\n",
       "      <td>1</td>\n",
       "      <td>2</td>\n",
       "      <td>1</td>\n",
       "      <td>1</td>\n",
       "      <td>2</td>\n",
       "      <td>2244</td>\n",
       "      <td>2253</td>\n",
       "    </tr>\n",
       "    <tr>\n",
       "      <th>00-00-02</th>\n",
       "      <td>2366</td>\n",
       "      <td>1</td>\n",
       "      <td>2</td>\n",
       "      <td>1</td>\n",
       "      <td>1</td>\n",
       "      <td>2</td>\n",
       "      <td>2243</td>\n",
       "      <td>2264</td>\n",
       "    </tr>\n",
       "    <tr>\n",
       "      <th>00-00-03</th>\n",
       "      <td>2385</td>\n",
       "      <td>1</td>\n",
       "      <td>2</td>\n",
       "      <td>1</td>\n",
       "      <td>1</td>\n",
       "      <td>2</td>\n",
       "      <td>2267</td>\n",
       "      <td>2278</td>\n",
       "    </tr>\n",
       "    <tr>\n",
       "      <th>00-00-04</th>\n",
       "      <td>2362</td>\n",
       "      <td>1</td>\n",
       "      <td>2</td>\n",
       "      <td>1</td>\n",
       "      <td>1</td>\n",
       "      <td>2</td>\n",
       "      <td>2271</td>\n",
       "      <td>2267</td>\n",
       "    </tr>\n",
       "    <tr>\n",
       "      <th>00-00-05</th>\n",
       "      <td>2361</td>\n",
       "      <td>1</td>\n",
       "      <td>2</td>\n",
       "      <td>1</td>\n",
       "      <td>1</td>\n",
       "      <td>2</td>\n",
       "      <td>2202</td>\n",
       "      <td>2275</td>\n",
       "    </tr>\n",
       "    <tr>\n",
       "      <th>00-03-00</th>\n",
       "      <td>2329</td>\n",
       "      <td>1</td>\n",
       "      <td>2</td>\n",
       "      <td>1</td>\n",
       "      <td>1</td>\n",
       "      <td>2</td>\n",
       "      <td>2217</td>\n",
       "      <td>2230</td>\n",
       "    </tr>\n",
       "    <tr>\n",
       "      <th>00-03-01</th>\n",
       "      <td>2341</td>\n",
       "      <td>1</td>\n",
       "      <td>2</td>\n",
       "      <td>1</td>\n",
       "      <td>1</td>\n",
       "      <td>2</td>\n",
       "      <td>2155</td>\n",
       "      <td>2239</td>\n",
       "    </tr>\n",
       "    <tr>\n",
       "      <th>00-03-02</th>\n",
       "      <td>2327</td>\n",
       "      <td>1</td>\n",
       "      <td>2</td>\n",
       "      <td>1</td>\n",
       "      <td>1</td>\n",
       "      <td>2</td>\n",
       "      <td>2243</td>\n",
       "      <td>2247</td>\n",
       "    </tr>\n",
       "    <tr>\n",
       "      <th>00-03-03</th>\n",
       "      <td>2397</td>\n",
       "      <td>1</td>\n",
       "      <td>2</td>\n",
       "      <td>1</td>\n",
       "      <td>1</td>\n",
       "      <td>2</td>\n",
       "      <td>2286</td>\n",
       "      <td>2303</td>\n",
       "    </tr>\n",
       "    <tr>\n",
       "      <th>00-03-04</th>\n",
       "      <td>2401</td>\n",
       "      <td>1</td>\n",
       "      <td>2</td>\n",
       "      <td>1</td>\n",
       "      <td>1</td>\n",
       "      <td>2</td>\n",
       "      <td>2174</td>\n",
       "      <td>2257</td>\n",
       "    </tr>\n",
       "  </tbody>\n",
       "</table>\n",
       "</div>"
      ],
      "text/plain": [
       "                time  unit  station  linename  division  desc  entries  exits\n",
       "ca    scp                                                                    \n",
       "C027  00-00-00  2216     1        2         1         1     2     2209   2210\n",
       "      00-00-01  2215     1        2         1         1     2     2213   2207\n",
       "      00-00-02  2217     1        2         1         1     2     2178   2208\n",
       "      00-03-00  2216     1        2         1         1     2     2194   2204\n",
       "      00-03-01  2215     1        2         1         1     2     2213   2208\n",
       "C028  01-05-00  2211     1        2         1         1     2      104      1\n",
       "      01-05-01  2215     1        2         1         1     2        1     26\n",
       "      01-06-00  2212     1        2         1         1     2     2209   2202\n",
       "      01-06-01  2211     1        2         1         1     2     2087   1632\n",
       "JFK03 00-00-01  2385     1        2         1         1     2     2244   2253\n",
       "      00-00-02  2366     1        2         1         1     2     2243   2264\n",
       "      00-00-03  2385     1        2         1         1     2     2267   2278\n",
       "      00-00-04  2362     1        2         1         1     2     2271   2267\n",
       "      00-00-05  2361     1        2         1         1     2     2202   2275\n",
       "      00-03-00  2329     1        2         1         1     2     2217   2230\n",
       "      00-03-01  2341     1        2         1         1     2     2155   2239\n",
       "      00-03-02  2327     1        2         1         1     2     2243   2247\n",
       "      00-03-03  2397     1        2         1         1     2     2286   2303\n",
       "      00-03-04  2401     1        2         1         1     2     2174   2257"
      ]
     },
     "execution_count": 23,
     "metadata": {},
     "output_type": "execute_result"
    }
   ],
   "source": [
    "df_nunique_values_ca_scp[df_nunique_values_ca_scp['station'] > 1]"
   ]
  },
  {
   "cell_type": "code",
   "execution_count": 24,
   "metadata": {},
   "outputs": [
    {
     "data": {
      "text/plain": [
       "(5223, 10)"
      ]
     },
     "execution_count": 24,
     "metadata": {},
     "output_type": "execute_result"
    }
   ],
   "source": [
    "df.drop_duplicates(['ca', 'scp', 'station', 'linename']).shape"
   ]
  },
  {
   "cell_type": "code",
   "execution_count": 25,
   "metadata": {},
   "outputs": [
    {
     "data": {
      "text/plain": [
       "(10130791, 10)"
      ]
     },
     "execution_count": 25,
     "metadata": {},
     "output_type": "execute_result"
    }
   ],
   "source": [
    "df.drop_duplicates(['ca', 'scp', 'desc', 'time']).shape"
   ]
  },
  {
   "cell_type": "code",
   "execution_count": 26,
   "metadata": {
    "scrolled": true
   },
   "outputs": [
    {
     "data": {
      "text/plain": [
       "(10130791, 10)"
      ]
     },
     "execution_count": 26,
     "metadata": {},
     "output_type": "execute_result"
    }
   ],
   "source": [
    "df.shape"
   ]
  },
  {
   "cell_type": "markdown",
   "metadata": {},
   "source": [
    "## Distribuição do \"ca\""
   ]
  },
  {
   "cell_type": "code",
   "execution_count": 27,
   "metadata": {},
   "outputs": [
    {
     "data": {
      "text/plain": [
       "PTH05    53905\n",
       "R610     51484\n",
       "PTH16    45390\n",
       "PTH07    43523\n",
       "A046     43276\n",
       "         ...  \n",
       "N702A       50\n",
       "N701A       45\n",
       "N700A       35\n",
       "N701        30\n",
       "N702        30\n",
       "Name: ca, Length: 737, dtype: int64"
      ]
     },
     "execution_count": 27,
     "metadata": {},
     "output_type": "execute_result"
    }
   ],
   "source": [
    "df_ca_count = df['ca'].value_counts()\n",
    "df_ca_count"
   ]
  },
  {
   "cell_type": "markdown",
   "metadata": {},
   "source": [
    "## Análise de uma linha (ca e scp)\n",
    "- Após identificar o grão e a formação das séries temporais, será selecionado uma linha através da filtragem do CA e SCP para entender melhor dos dados. \n",
    "- Essa análise também foi realizada com outras amostras, que apresentaram alguns comportamentos parecidos e outros mais específicos. Os dados costumam apresentar bastante ruídos e necessitam de tratamento. "
   ]
  },
  {
   "cell_type": "code",
   "execution_count": 29,
   "metadata": {},
   "outputs": [],
   "source": [
    "ca = 'R610'\n",
    "scp = '00-04-01'"
   ]
  },
  {
   "cell_type": "code",
   "execution_count": 30,
   "metadata": {},
   "outputs": [],
   "source": [
    "df_ca_scp_example = df[(df['ca'] == ca) & (df['scp'] == scp)]"
   ]
  },
  {
   "cell_type": "code",
   "execution_count": 31,
   "metadata": {},
   "outputs": [
    {
     "data": {
      "text/html": [
       "<div>\n",
       "<style scoped>\n",
       "    .dataframe tbody tr th:only-of-type {\n",
       "        vertical-align: middle;\n",
       "    }\n",
       "\n",
       "    .dataframe tbody tr th {\n",
       "        vertical-align: top;\n",
       "    }\n",
       "\n",
       "    .dataframe thead th {\n",
       "        text-align: right;\n",
       "    }\n",
       "</style>\n",
       "<table border=\"1\" class=\"dataframe\">\n",
       "  <thead>\n",
       "    <tr style=\"text-align: right;\">\n",
       "      <th></th>\n",
       "      <th>time</th>\n",
       "      <th>ca</th>\n",
       "      <th>unit</th>\n",
       "      <th>scp</th>\n",
       "      <th>station</th>\n",
       "      <th>linename</th>\n",
       "      <th>division</th>\n",
       "      <th>desc</th>\n",
       "      <th>entries</th>\n",
       "      <th>exits</th>\n",
       "    </tr>\n",
       "  </thead>\n",
       "  <tbody>\n",
       "    <tr>\n",
       "      <th>0</th>\n",
       "      <td>2016-01-01 00:00:00</td>\n",
       "      <td>R610</td>\n",
       "      <td>R057</td>\n",
       "      <td>00-04-01</td>\n",
       "      <td>ATL AV-BARCLAY</td>\n",
       "      <td>2345BDNQR</td>\n",
       "      <td>IRT</td>\n",
       "      <td>REGULAR</td>\n",
       "      <td>1345628.0</td>\n",
       "      <td>754644.0</td>\n",
       "    </tr>\n",
       "    <tr>\n",
       "      <th>1</th>\n",
       "      <td>2016-01-01 04:00:00</td>\n",
       "      <td>R610</td>\n",
       "      <td>R057</td>\n",
       "      <td>00-04-01</td>\n",
       "      <td>ATL AV-BARCLAY</td>\n",
       "      <td>2345BDNQR</td>\n",
       "      <td>IRT</td>\n",
       "      <td>REGULAR</td>\n",
       "      <td>1345672.0</td>\n",
       "      <td>754684.0</td>\n",
       "    </tr>\n",
       "    <tr>\n",
       "      <th>2</th>\n",
       "      <td>2016-01-01 08:00:00</td>\n",
       "      <td>R610</td>\n",
       "      <td>R057</td>\n",
       "      <td>00-04-01</td>\n",
       "      <td>ATL AV-BARCLAY</td>\n",
       "      <td>2345BDNQR</td>\n",
       "      <td>IRT</td>\n",
       "      <td>REGULAR</td>\n",
       "      <td>1345677.0</td>\n",
       "      <td>754703.0</td>\n",
       "    </tr>\n",
       "    <tr>\n",
       "      <th>3</th>\n",
       "      <td>2016-01-01 12:00:00</td>\n",
       "      <td>R610</td>\n",
       "      <td>R057</td>\n",
       "      <td>00-04-01</td>\n",
       "      <td>ATL AV-BARCLAY</td>\n",
       "      <td>2345BDNQR</td>\n",
       "      <td>IRT</td>\n",
       "      <td>REGULAR</td>\n",
       "      <td>1345685.0</td>\n",
       "      <td>754712.0</td>\n",
       "    </tr>\n",
       "    <tr>\n",
       "      <th>4</th>\n",
       "      <td>2016-01-01 16:00:00</td>\n",
       "      <td>R610</td>\n",
       "      <td>R057</td>\n",
       "      <td>00-04-01</td>\n",
       "      <td>ATL AV-BARCLAY</td>\n",
       "      <td>2345BDNQR</td>\n",
       "      <td>IRT</td>\n",
       "      <td>REGULAR</td>\n",
       "      <td>1345703.0</td>\n",
       "      <td>754725.0</td>\n",
       "    </tr>\n",
       "    <tr>\n",
       "      <th>...</th>\n",
       "      <td>...</td>\n",
       "      <td>...</td>\n",
       "      <td>...</td>\n",
       "      <td>...</td>\n",
       "      <td>...</td>\n",
       "      <td>...</td>\n",
       "      <td>...</td>\n",
       "      <td>...</td>\n",
       "      <td>...</td>\n",
       "      <td>...</td>\n",
       "    </tr>\n",
       "    <tr>\n",
       "      <th>2340</th>\n",
       "      <td>2016-12-31 04:00:00</td>\n",
       "      <td>R610</td>\n",
       "      <td>R057</td>\n",
       "      <td>00-04-01</td>\n",
       "      <td>ATL AV-BARCLAY</td>\n",
       "      <td>2345BDNQR</td>\n",
       "      <td>IRT</td>\n",
       "      <td>REGULAR</td>\n",
       "      <td>67250064.0</td>\n",
       "      <td>16836034.0</td>\n",
       "    </tr>\n",
       "    <tr>\n",
       "      <th>2341</th>\n",
       "      <td>2016-12-31 08:00:00</td>\n",
       "      <td>R610</td>\n",
       "      <td>R057</td>\n",
       "      <td>00-04-01</td>\n",
       "      <td>ATL AV-BARCLAY</td>\n",
       "      <td>2345BDNQR</td>\n",
       "      <td>IRT</td>\n",
       "      <td>REGULAR</td>\n",
       "      <td>67250088.0</td>\n",
       "      <td>16836044.0</td>\n",
       "    </tr>\n",
       "    <tr>\n",
       "      <th>2342</th>\n",
       "      <td>2016-12-31 12:00:00</td>\n",
       "      <td>R610</td>\n",
       "      <td>R057</td>\n",
       "      <td>00-04-01</td>\n",
       "      <td>ATL AV-BARCLAY</td>\n",
       "      <td>2345BDNQR</td>\n",
       "      <td>IRT</td>\n",
       "      <td>REGULAR</td>\n",
       "      <td>67250088.0</td>\n",
       "      <td>16836044.0</td>\n",
       "    </tr>\n",
       "    <tr>\n",
       "      <th>2343</th>\n",
       "      <td>2016-12-31 16:00:00</td>\n",
       "      <td>R610</td>\n",
       "      <td>R057</td>\n",
       "      <td>00-04-01</td>\n",
       "      <td>ATL AV-BARCLAY</td>\n",
       "      <td>2345BDNQR</td>\n",
       "      <td>IRT</td>\n",
       "      <td>REGULAR</td>\n",
       "      <td>67250112.0</td>\n",
       "      <td>16836052.0</td>\n",
       "    </tr>\n",
       "    <tr>\n",
       "      <th>2344</th>\n",
       "      <td>2016-12-31 20:00:00</td>\n",
       "      <td>R610</td>\n",
       "      <td>R057</td>\n",
       "      <td>00-04-01</td>\n",
       "      <td>ATL AV-BARCLAY</td>\n",
       "      <td>2345BDNQR</td>\n",
       "      <td>IRT</td>\n",
       "      <td>REGULAR</td>\n",
       "      <td>67250176.0</td>\n",
       "      <td>16836088.0</td>\n",
       "    </tr>\n",
       "  </tbody>\n",
       "</table>\n",
       "<p>2345 rows × 10 columns</p>\n",
       "</div>"
      ],
      "text/plain": [
       "                    time    ca  unit       scp         station   linename  \\\n",
       "0    2016-01-01 00:00:00  R610  R057  00-04-01  ATL AV-BARCLAY  2345BDNQR   \n",
       "1    2016-01-01 04:00:00  R610  R057  00-04-01  ATL AV-BARCLAY  2345BDNQR   \n",
       "2    2016-01-01 08:00:00  R610  R057  00-04-01  ATL AV-BARCLAY  2345BDNQR   \n",
       "3    2016-01-01 12:00:00  R610  R057  00-04-01  ATL AV-BARCLAY  2345BDNQR   \n",
       "4    2016-01-01 16:00:00  R610  R057  00-04-01  ATL AV-BARCLAY  2345BDNQR   \n",
       "...                  ...   ...   ...       ...             ...        ...   \n",
       "2340 2016-12-31 04:00:00  R610  R057  00-04-01  ATL AV-BARCLAY  2345BDNQR   \n",
       "2341 2016-12-31 08:00:00  R610  R057  00-04-01  ATL AV-BARCLAY  2345BDNQR   \n",
       "2342 2016-12-31 12:00:00  R610  R057  00-04-01  ATL AV-BARCLAY  2345BDNQR   \n",
       "2343 2016-12-31 16:00:00  R610  R057  00-04-01  ATL AV-BARCLAY  2345BDNQR   \n",
       "2344 2016-12-31 20:00:00  R610  R057  00-04-01  ATL AV-BARCLAY  2345BDNQR   \n",
       "\n",
       "     division     desc     entries       exits  \n",
       "0         IRT  REGULAR   1345628.0    754644.0  \n",
       "1         IRT  REGULAR   1345672.0    754684.0  \n",
       "2         IRT  REGULAR   1345677.0    754703.0  \n",
       "3         IRT  REGULAR   1345685.0    754712.0  \n",
       "4         IRT  REGULAR   1345703.0    754725.0  \n",
       "...       ...      ...         ...         ...  \n",
       "2340      IRT  REGULAR  67250064.0  16836034.0  \n",
       "2341      IRT  REGULAR  67250088.0  16836044.0  \n",
       "2342      IRT  REGULAR  67250088.0  16836044.0  \n",
       "2343      IRT  REGULAR  67250112.0  16836052.0  \n",
       "2344      IRT  REGULAR  67250176.0  16836088.0  \n",
       "\n",
       "[2345 rows x 10 columns]"
      ]
     },
     "execution_count": 31,
     "metadata": {},
     "output_type": "execute_result"
    }
   ],
   "source": [
    "df_ca_scp_example.reset_index(inplace=True, drop=True)\n",
    "df_ca_scp_example"
   ]
  },
  {
   "cell_type": "markdown",
   "metadata": {},
   "source": [
    "### Estatísticas das categorias"
   ]
  },
  {
   "cell_type": "code",
   "execution_count": 32,
   "metadata": {},
   "outputs": [
    {
     "data": {
      "text/html": [
       "<div>\n",
       "<style scoped>\n",
       "    .dataframe tbody tr th:only-of-type {\n",
       "        vertical-align: middle;\n",
       "    }\n",
       "\n",
       "    .dataframe tbody tr th {\n",
       "        vertical-align: top;\n",
       "    }\n",
       "\n",
       "    .dataframe thead th {\n",
       "        text-align: right;\n",
       "    }\n",
       "</style>\n",
       "<table border=\"1\" class=\"dataframe\">\n",
       "  <thead>\n",
       "    <tr style=\"text-align: right;\">\n",
       "      <th></th>\n",
       "      <th>ca</th>\n",
       "      <th>unit</th>\n",
       "      <th>scp</th>\n",
       "      <th>station</th>\n",
       "      <th>linename</th>\n",
       "      <th>division</th>\n",
       "      <th>desc</th>\n",
       "    </tr>\n",
       "  </thead>\n",
       "  <tbody>\n",
       "    <tr>\n",
       "      <th>count</th>\n",
       "      <td>2345</td>\n",
       "      <td>2345</td>\n",
       "      <td>2345</td>\n",
       "      <td>2345</td>\n",
       "      <td>2345</td>\n",
       "      <td>2345</td>\n",
       "      <td>2345</td>\n",
       "    </tr>\n",
       "    <tr>\n",
       "      <th>unique</th>\n",
       "      <td>1</td>\n",
       "      <td>1</td>\n",
       "      <td>1</td>\n",
       "      <td>1</td>\n",
       "      <td>1</td>\n",
       "      <td>1</td>\n",
       "      <td>2</td>\n",
       "    </tr>\n",
       "    <tr>\n",
       "      <th>top</th>\n",
       "      <td>R610</td>\n",
       "      <td>R057</td>\n",
       "      <td>00-04-01</td>\n",
       "      <td>ATL AV-BARCLAY</td>\n",
       "      <td>2345BDNQR</td>\n",
       "      <td>IRT</td>\n",
       "      <td>REGULAR</td>\n",
       "    </tr>\n",
       "    <tr>\n",
       "      <th>freq</th>\n",
       "      <td>2345</td>\n",
       "      <td>2345</td>\n",
       "      <td>2345</td>\n",
       "      <td>2345</td>\n",
       "      <td>2345</td>\n",
       "      <td>2345</td>\n",
       "      <td>2340</td>\n",
       "    </tr>\n",
       "  </tbody>\n",
       "</table>\n",
       "</div>"
      ],
      "text/plain": [
       "          ca  unit       scp         station   linename division     desc\n",
       "count   2345  2345      2345            2345       2345     2345     2345\n",
       "unique     1     1         1               1          1        1        2\n",
       "top     R610  R057  00-04-01  ATL AV-BARCLAY  2345BDNQR      IRT  REGULAR\n",
       "freq    2345  2345      2345            2345       2345     2345     2340"
      ]
     },
     "execution_count": 32,
     "metadata": {},
     "output_type": "execute_result"
    }
   ],
   "source": [
    "df_ca_scp_example.describe(include=['O', 'category'])"
   ]
  },
  {
   "cell_type": "markdown",
   "metadata": {},
   "source": [
    "### Visualização dos valores acumulados"
   ]
  },
  {
   "cell_type": "code",
   "execution_count": 33,
   "metadata": {},
   "outputs": [
    {
     "data": {
      "text/plain": [
       "<matplotlib.axes._subplots.AxesSubplot at 0x7f6e0b60a450>"
      ]
     },
     "execution_count": 33,
     "metadata": {},
     "output_type": "execute_result"
    },
    {
     "data": {
      "image/png": "[encoded data removed]",
      "text/plain": [
       "<Figure size 432x288 with 1 Axes>"
      ]
     },
     "metadata": {
      "needs_background": "light"
     },
     "output_type": "display_data"
    }
   ],
   "source": [
    "df_ca_scp_example.plot(x='time', y='entries', title='Entries')"
   ]
  },
  {
   "cell_type": "code",
   "execution_count": 34,
   "metadata": {},
   "outputs": [
    {
     "data": {
      "text/plain": [
       "<matplotlib.axes._subplots.AxesSubplot at 0x7f6e052c8990>"
      ]
     },
     "execution_count": 34,
     "metadata": {},
     "output_type": "execute_result"
    },
    {
     "data": {
      "image/png": "[encoded data removed]",
      "text/plain": [
       "<Figure size 432x288 with 1 Axes>"
      ]
     },
     "metadata": {
      "needs_background": "light"
     },
     "output_type": "display_data"
    }
   ],
   "source": [
    "df_ca_scp_example.head(100).plot(x='time', y='entries', title='Entries (100 primeiros registros)')"
   ]
  },
  {
   "cell_type": "code",
   "execution_count": 35,
   "metadata": {},
   "outputs": [
    {
     "data": {
      "text/plain": [
       "<matplotlib.axes._subplots.AxesSubplot at 0x7f6e058c4b50>"
      ]
     },
     "execution_count": 35,
     "metadata": {},
     "output_type": "execute_result"
    },
    {
     "data": {
      "image/png": "[encoded data removed]",
      "text/plain": [
       "<Figure size 432x288 with 1 Axes>"
      ]
     },
     "metadata": {
      "needs_background": "light"
     },
     "output_type": "display_data"
    }
   ],
   "source": [
    "df_ca_scp_example.plot(x='time', y='exits', title='Exits')"
   ]
  },
  {
   "cell_type": "markdown",
   "metadata": {},
   "source": [
    "- Há uma diferença de escala bem grande nos valores de ENTRIES e EXITS, uma mudança repentina em ambos os casos "
   ]
  },
  {
   "cell_type": "markdown",
   "metadata": {},
   "source": [
    "### Análise da distribuição dos intervalos da amostra"
   ]
  },
  {
   "cell_type": "code",
   "execution_count": 36,
   "metadata": {},
   "outputs": [],
   "source": [
    "df_ca_scp_example['time_diff'] = df_ca_scp_example['time'] - df_ca_scp_example.shift(1)['time']"
   ]
  },
  {
   "cell_type": "code",
   "execution_count": 37,
   "metadata": {},
   "outputs": [
    {
     "data": {
      "text/plain": [
       "count                         2344\n",
       "mean     0 days 03:44:44.641638225\n",
       "std      0 days 00:57:06.975832164\n",
       "min                0 days 00:00:18\n",
       "25%                0 days 04:00:00\n",
       "50%                0 days 04:00:00\n",
       "75%                0 days 04:00:00\n",
       "max                0 days 12:00:00\n",
       "Name: time_diff, dtype: object"
      ]
     },
     "execution_count": 37,
     "metadata": {},
     "output_type": "execute_result"
    }
   ],
   "source": [
    "df_ca_scp_example['time_diff'].describe()"
   ]
  },
  {
   "cell_type": "markdown",
   "metadata": {},
   "source": [
    "- Os itervalos mais comuns na base são de 4h entre as instâncias, entretanto há valores menores com menos de 1h e um intervalo de 12h, o que indica uma falta de dados em algum ponto."
   ]
  },
  {
   "cell_type": "code",
   "execution_count": 38,
   "metadata": {},
   "outputs": [
    {
     "data": {
      "text/html": [
       "<div>\n",
       "<style scoped>\n",
       "    .dataframe tbody tr th:only-of-type {\n",
       "        vertical-align: middle;\n",
       "    }\n",
       "\n",
       "    .dataframe tbody tr th {\n",
       "        vertical-align: top;\n",
       "    }\n",
       "\n",
       "    .dataframe thead th {\n",
       "        text-align: right;\n",
       "    }\n",
       "</style>\n",
       "<table border=\"1\" class=\"dataframe\">\n",
       "  <thead>\n",
       "    <tr style=\"text-align: right;\">\n",
       "      <th></th>\n",
       "      <th>time</th>\n",
       "      <th>ca</th>\n",
       "      <th>unit</th>\n",
       "      <th>scp</th>\n",
       "      <th>station</th>\n",
       "      <th>linename</th>\n",
       "      <th>division</th>\n",
       "      <th>desc</th>\n",
       "      <th>entries</th>\n",
       "      <th>exits</th>\n",
       "      <th>time_diff</th>\n",
       "    </tr>\n",
       "  </thead>\n",
       "  <tbody>\n",
       "    <tr>\n",
       "      <th>28</th>\n",
       "      <td>2016-01-05 13:54:44</td>\n",
       "      <td>R610</td>\n",
       "      <td>R057</td>\n",
       "      <td>00-04-01</td>\n",
       "      <td>ATL AV-BARCLAY</td>\n",
       "      <td>2345BDNQR</td>\n",
       "      <td>IRT</td>\n",
       "      <td>REGULAR</td>\n",
       "      <td>1347196.0</td>\n",
       "      <td>755229.0</td>\n",
       "      <td>0 days 01:54:44</td>\n",
       "    </tr>\n",
       "    <tr>\n",
       "      <th>30</th>\n",
       "      <td>2016-01-05 16:37:58</td>\n",
       "      <td>R610</td>\n",
       "      <td>R057</td>\n",
       "      <td>00-04-01</td>\n",
       "      <td>ATL AV-BARCLAY</td>\n",
       "      <td>2345BDNQR</td>\n",
       "      <td>IRT</td>\n",
       "      <td>REGULAR</td>\n",
       "      <td>1347325.0</td>\n",
       "      <td>755239.0</td>\n",
       "      <td>0 days 00:37:58</td>\n",
       "    </tr>\n",
       "    <tr>\n",
       "      <th>45</th>\n",
       "      <td>2016-01-08 00:00:00</td>\n",
       "      <td>R610</td>\n",
       "      <td>R057</td>\n",
       "      <td>00-04-01</td>\n",
       "      <td>ATL AV-BARCLAY</td>\n",
       "      <td>2345BDNQR</td>\n",
       "      <td>IRT</td>\n",
       "      <td>REGULAR</td>\n",
       "      <td>1348528.0</td>\n",
       "      <td>755869.0</td>\n",
       "      <td>0 days 00:33:13</td>\n",
       "    </tr>\n",
       "    <tr>\n",
       "      <th>49</th>\n",
       "      <td>2016-01-08 13:23:58</td>\n",
       "      <td>R610</td>\n",
       "      <td>R057</td>\n",
       "      <td>00-04-01</td>\n",
       "      <td>ATL AV-BARCLAY</td>\n",
       "      <td>2345BDNQR</td>\n",
       "      <td>IRT</td>\n",
       "      <td>REGULAR</td>\n",
       "      <td>1348844.0</td>\n",
       "      <td>755901.0</td>\n",
       "      <td>0 days 01:23:58</td>\n",
       "    </tr>\n",
       "    <tr>\n",
       "      <th>116</th>\n",
       "      <td>2016-01-19 12:57:51</td>\n",
       "      <td>R610</td>\n",
       "      <td>R057</td>\n",
       "      <td>00-04-01</td>\n",
       "      <td>ATL AV-BARCLAY</td>\n",
       "      <td>2345BDNQR</td>\n",
       "      <td>IRT</td>\n",
       "      <td>REGULAR</td>\n",
       "      <td>1353379.0</td>\n",
       "      <td>758028.0</td>\n",
       "      <td>0 days 00:57:51</td>\n",
       "    </tr>\n",
       "    <tr>\n",
       "      <th>...</th>\n",
       "      <td>...</td>\n",
       "      <td>...</td>\n",
       "      <td>...</td>\n",
       "      <td>...</td>\n",
       "      <td>...</td>\n",
       "      <td>...</td>\n",
       "      <td>...</td>\n",
       "      <td>...</td>\n",
       "      <td>...</td>\n",
       "      <td>...</td>\n",
       "      <td>...</td>\n",
       "    </tr>\n",
       "    <tr>\n",
       "      <th>2236</th>\n",
       "      <td>2016-12-14 13:02:17</td>\n",
       "      <td>R610</td>\n",
       "      <td>R057</td>\n",
       "      <td>00-04-01</td>\n",
       "      <td>ATL AV-BARCLAY</td>\n",
       "      <td>2345BDNQR</td>\n",
       "      <td>IRT</td>\n",
       "      <td>REGULAR</td>\n",
       "      <td>67242552.0</td>\n",
       "      <td>16832714.0</td>\n",
       "      <td>0 days 00:01:20</td>\n",
       "    </tr>\n",
       "    <tr>\n",
       "      <th>2237</th>\n",
       "      <td>2016-12-14 13:03:37</td>\n",
       "      <td>R610</td>\n",
       "      <td>R057</td>\n",
       "      <td>00-04-01</td>\n",
       "      <td>ATL AV-BARCLAY</td>\n",
       "      <td>2345BDNQR</td>\n",
       "      <td>IRT</td>\n",
       "      <td>REGULAR</td>\n",
       "      <td>67242552.0</td>\n",
       "      <td>16832714.0</td>\n",
       "      <td>0 days 00:01:20</td>\n",
       "    </tr>\n",
       "    <tr>\n",
       "      <th>2238</th>\n",
       "      <td>2016-12-14 13:05:00</td>\n",
       "      <td>R610</td>\n",
       "      <td>R057</td>\n",
       "      <td>00-04-01</td>\n",
       "      <td>ATL AV-BARCLAY</td>\n",
       "      <td>2345BDNQR</td>\n",
       "      <td>IRT</td>\n",
       "      <td>REGULAR</td>\n",
       "      <td>67242560.0</td>\n",
       "      <td>16832714.0</td>\n",
       "      <td>0 days 00:01:23</td>\n",
       "    </tr>\n",
       "    <tr>\n",
       "      <th>2239</th>\n",
       "      <td>2016-12-14 13:06:22</td>\n",
       "      <td>R610</td>\n",
       "      <td>R057</td>\n",
       "      <td>00-04-01</td>\n",
       "      <td>ATL AV-BARCLAY</td>\n",
       "      <td>2345BDNQR</td>\n",
       "      <td>IRT</td>\n",
       "      <td>REGULAR</td>\n",
       "      <td>67242584.0</td>\n",
       "      <td>16832714.0</td>\n",
       "      <td>0 days 00:01:22</td>\n",
       "    </tr>\n",
       "    <tr>\n",
       "      <th>2240</th>\n",
       "      <td>2016-12-14 13:07:40</td>\n",
       "      <td>R610</td>\n",
       "      <td>R057</td>\n",
       "      <td>00-04-01</td>\n",
       "      <td>ATL AV-BARCLAY</td>\n",
       "      <td>2345BDNQR</td>\n",
       "      <td>IRT</td>\n",
       "      <td>REGULAR</td>\n",
       "      <td>67242592.0</td>\n",
       "      <td>16832714.0</td>\n",
       "      <td>0 days 00:01:18</td>\n",
       "    </tr>\n",
       "  </tbody>\n",
       "</table>\n",
       "<p>155 rows × 11 columns</p>\n",
       "</div>"
      ],
      "text/plain": [
       "                    time    ca  unit       scp         station   linename  \\\n",
       "28   2016-01-05 13:54:44  R610  R057  00-04-01  ATL AV-BARCLAY  2345BDNQR   \n",
       "30   2016-01-05 16:37:58  R610  R057  00-04-01  ATL AV-BARCLAY  2345BDNQR   \n",
       "45   2016-01-08 00:00:00  R610  R057  00-04-01  ATL AV-BARCLAY  2345BDNQR   \n",
       "49   2016-01-08 13:23:58  R610  R057  00-04-01  ATL AV-BARCLAY  2345BDNQR   \n",
       "116  2016-01-19 12:57:51  R610  R057  00-04-01  ATL AV-BARCLAY  2345BDNQR   \n",
       "...                  ...   ...   ...       ...             ...        ...   \n",
       "2236 2016-12-14 13:02:17  R610  R057  00-04-01  ATL AV-BARCLAY  2345BDNQR   \n",
       "2237 2016-12-14 13:03:37  R610  R057  00-04-01  ATL AV-BARCLAY  2345BDNQR   \n",
       "2238 2016-12-14 13:05:00  R610  R057  00-04-01  ATL AV-BARCLAY  2345BDNQR   \n",
       "2239 2016-12-14 13:06:22  R610  R057  00-04-01  ATL AV-BARCLAY  2345BDNQR   \n",
       "2240 2016-12-14 13:07:40  R610  R057  00-04-01  ATL AV-BARCLAY  2345BDNQR   \n",
       "\n",
       "     division     desc     entries       exits       time_diff  \n",
       "28        IRT  REGULAR   1347196.0    755229.0 0 days 01:54:44  \n",
       "30        IRT  REGULAR   1347325.0    755239.0 0 days 00:37:58  \n",
       "45        IRT  REGULAR   1348528.0    755869.0 0 days 00:33:13  \n",
       "49        IRT  REGULAR   1348844.0    755901.0 0 days 01:23:58  \n",
       "116       IRT  REGULAR   1353379.0    758028.0 0 days 00:57:51  \n",
       "...       ...      ...         ...         ...             ...  \n",
       "2236      IRT  REGULAR  67242552.0  16832714.0 0 days 00:01:20  \n",
       "2237      IRT  REGULAR  67242552.0  16832714.0 0 days 00:01:20  \n",
       "2238      IRT  REGULAR  67242560.0  16832714.0 0 days 00:01:23  \n",
       "2239      IRT  REGULAR  67242584.0  16832714.0 0 days 00:01:22  \n",
       "2240      IRT  REGULAR  67242592.0  16832714.0 0 days 00:01:18  \n",
       "\n",
       "[155 rows x 11 columns]"
      ]
     },
     "execution_count": 38,
     "metadata": {},
     "output_type": "execute_result"
    }
   ],
   "source": [
    "df_ca_scp_example[df_ca_scp_example['time_diff'] < '02:00:00']"
   ]
  },
  {
   "cell_type": "code",
   "execution_count": 39,
   "metadata": {},
   "outputs": [
    {
     "data": {
      "text/html": [
       "<div>\n",
       "<style scoped>\n",
       "    .dataframe tbody tr th:only-of-type {\n",
       "        vertical-align: middle;\n",
       "    }\n",
       "\n",
       "    .dataframe tbody tr th {\n",
       "        vertical-align: top;\n",
       "    }\n",
       "\n",
       "    .dataframe thead th {\n",
       "        text-align: right;\n",
       "    }\n",
       "</style>\n",
       "<table border=\"1\" class=\"dataframe\">\n",
       "  <thead>\n",
       "    <tr style=\"text-align: right;\">\n",
       "      <th></th>\n",
       "      <th>time</th>\n",
       "      <th>ca</th>\n",
       "      <th>unit</th>\n",
       "      <th>scp</th>\n",
       "      <th>station</th>\n",
       "      <th>linename</th>\n",
       "      <th>division</th>\n",
       "      <th>desc</th>\n",
       "      <th>entries</th>\n",
       "      <th>exits</th>\n",
       "      <th>time_diff</th>\n",
       "    </tr>\n",
       "  </thead>\n",
       "  <tbody>\n",
       "    <tr>\n",
       "      <th>25</th>\n",
       "      <td>2016-01-05 04:00:00</td>\n",
       "      <td>R610</td>\n",
       "      <td>R057</td>\n",
       "      <td>00-04-01</td>\n",
       "      <td>ATL AV-BARCLAY</td>\n",
       "      <td>2345BDNQR</td>\n",
       "      <td>IRT</td>\n",
       "      <td>REGULAR</td>\n",
       "      <td>1346962.0</td>\n",
       "      <td>755213.0</td>\n",
       "      <td>0 days 04:00:00</td>\n",
       "    </tr>\n",
       "    <tr>\n",
       "      <th>26</th>\n",
       "      <td>2016-01-05 08:00:00</td>\n",
       "      <td>R610</td>\n",
       "      <td>R057</td>\n",
       "      <td>00-04-01</td>\n",
       "      <td>ATL AV-BARCLAY</td>\n",
       "      <td>2345BDNQR</td>\n",
       "      <td>IRT</td>\n",
       "      <td>REGULAR</td>\n",
       "      <td>1346967.0</td>\n",
       "      <td>755218.0</td>\n",
       "      <td>0 days 04:00:00</td>\n",
       "    </tr>\n",
       "    <tr>\n",
       "      <th>27</th>\n",
       "      <td>2016-01-05 12:00:00</td>\n",
       "      <td>R610</td>\n",
       "      <td>R057</td>\n",
       "      <td>00-04-01</td>\n",
       "      <td>ATL AV-BARCLAY</td>\n",
       "      <td>2345BDNQR</td>\n",
       "      <td>IRT</td>\n",
       "      <td>REGULAR</td>\n",
       "      <td>1347021.0</td>\n",
       "      <td>755222.0</td>\n",
       "      <td>0 days 04:00:00</td>\n",
       "    </tr>\n",
       "    <tr>\n",
       "      <th>28</th>\n",
       "      <td>2016-01-05 13:54:44</td>\n",
       "      <td>R610</td>\n",
       "      <td>R057</td>\n",
       "      <td>00-04-01</td>\n",
       "      <td>ATL AV-BARCLAY</td>\n",
       "      <td>2345BDNQR</td>\n",
       "      <td>IRT</td>\n",
       "      <td>REGULAR</td>\n",
       "      <td>1347196.0</td>\n",
       "      <td>755229.0</td>\n",
       "      <td>0 days 01:54:44</td>\n",
       "    </tr>\n",
       "    <tr>\n",
       "      <th>29</th>\n",
       "      <td>2016-01-05 16:00:00</td>\n",
       "      <td>R610</td>\n",
       "      <td>R057</td>\n",
       "      <td>00-04-01</td>\n",
       "      <td>ATL AV-BARCLAY</td>\n",
       "      <td>2345BDNQR</td>\n",
       "      <td>IRT</td>\n",
       "      <td>REGULAR</td>\n",
       "      <td>1347314.0</td>\n",
       "      <td>755237.0</td>\n",
       "      <td>0 days 02:05:16</td>\n",
       "    </tr>\n",
       "    <tr>\n",
       "      <th>30</th>\n",
       "      <td>2016-01-05 16:37:58</td>\n",
       "      <td>R610</td>\n",
       "      <td>R057</td>\n",
       "      <td>00-04-01</td>\n",
       "      <td>ATL AV-BARCLAY</td>\n",
       "      <td>2345BDNQR</td>\n",
       "      <td>IRT</td>\n",
       "      <td>REGULAR</td>\n",
       "      <td>1347325.0</td>\n",
       "      <td>755239.0</td>\n",
       "      <td>0 days 00:37:58</td>\n",
       "    </tr>\n",
       "    <tr>\n",
       "      <th>31</th>\n",
       "      <td>2016-01-05 20:00:00</td>\n",
       "      <td>R610</td>\n",
       "      <td>R057</td>\n",
       "      <td>00-04-01</td>\n",
       "      <td>ATL AV-BARCLAY</td>\n",
       "      <td>2345BDNQR</td>\n",
       "      <td>IRT</td>\n",
       "      <td>REGULAR</td>\n",
       "      <td>1347359.0</td>\n",
       "      <td>755275.0</td>\n",
       "      <td>0 days 03:22:02</td>\n",
       "    </tr>\n",
       "    <tr>\n",
       "      <th>32</th>\n",
       "      <td>2016-01-06 00:00:00</td>\n",
       "      <td>R610</td>\n",
       "      <td>R057</td>\n",
       "      <td>00-04-01</td>\n",
       "      <td>ATL AV-BARCLAY</td>\n",
       "      <td>2345BDNQR</td>\n",
       "      <td>IRT</td>\n",
       "      <td>REGULAR</td>\n",
       "      <td>1347426.0</td>\n",
       "      <td>755418.0</td>\n",
       "      <td>0 days 04:00:00</td>\n",
       "    </tr>\n",
       "    <tr>\n",
       "      <th>33</th>\n",
       "      <td>2016-01-06 04:00:00</td>\n",
       "      <td>R610</td>\n",
       "      <td>R057</td>\n",
       "      <td>00-04-01</td>\n",
       "      <td>ATL AV-BARCLAY</td>\n",
       "      <td>2345BDNQR</td>\n",
       "      <td>IRT</td>\n",
       "      <td>REGULAR</td>\n",
       "      <td>1347455.0</td>\n",
       "      <td>755443.0</td>\n",
       "      <td>0 days 04:00:00</td>\n",
       "    </tr>\n",
       "    <tr>\n",
       "      <th>34</th>\n",
       "      <td>2016-01-06 08:00:00</td>\n",
       "      <td>R610</td>\n",
       "      <td>R057</td>\n",
       "      <td>00-04-01</td>\n",
       "      <td>ATL AV-BARCLAY</td>\n",
       "      <td>2345BDNQR</td>\n",
       "      <td>IRT</td>\n",
       "      <td>REGULAR</td>\n",
       "      <td>1347466.0</td>\n",
       "      <td>755446.0</td>\n",
       "      <td>0 days 04:00:00</td>\n",
       "    </tr>\n",
       "  </tbody>\n",
       "</table>\n",
       "</div>"
      ],
      "text/plain": [
       "                  time    ca  unit       scp         station   linename  \\\n",
       "25 2016-01-05 04:00:00  R610  R057  00-04-01  ATL AV-BARCLAY  2345BDNQR   \n",
       "26 2016-01-05 08:00:00  R610  R057  00-04-01  ATL AV-BARCLAY  2345BDNQR   \n",
       "27 2016-01-05 12:00:00  R610  R057  00-04-01  ATL AV-BARCLAY  2345BDNQR   \n",
       "28 2016-01-05 13:54:44  R610  R057  00-04-01  ATL AV-BARCLAY  2345BDNQR   \n",
       "29 2016-01-05 16:00:00  R610  R057  00-04-01  ATL AV-BARCLAY  2345BDNQR   \n",
       "30 2016-01-05 16:37:58  R610  R057  00-04-01  ATL AV-BARCLAY  2345BDNQR   \n",
       "31 2016-01-05 20:00:00  R610  R057  00-04-01  ATL AV-BARCLAY  2345BDNQR   \n",
       "32 2016-01-06 00:00:00  R610  R057  00-04-01  ATL AV-BARCLAY  2345BDNQR   \n",
       "33 2016-01-06 04:00:00  R610  R057  00-04-01  ATL AV-BARCLAY  2345BDNQR   \n",
       "34 2016-01-06 08:00:00  R610  R057  00-04-01  ATL AV-BARCLAY  2345BDNQR   \n",
       "\n",
       "   division     desc    entries     exits       time_diff  \n",
       "25      IRT  REGULAR  1346962.0  755213.0 0 days 04:00:00  \n",
       "26      IRT  REGULAR  1346967.0  755218.0 0 days 04:00:00  \n",
       "27      IRT  REGULAR  1347021.0  755222.0 0 days 04:00:00  \n",
       "28      IRT  REGULAR  1347196.0  755229.0 0 days 01:54:44  \n",
       "29      IRT  REGULAR  1347314.0  755237.0 0 days 02:05:16  \n",
       "30      IRT  REGULAR  1347325.0  755239.0 0 days 00:37:58  \n",
       "31      IRT  REGULAR  1347359.0  755275.0 0 days 03:22:02  \n",
       "32      IRT  REGULAR  1347426.0  755418.0 0 days 04:00:00  \n",
       "33      IRT  REGULAR  1347455.0  755443.0 0 days 04:00:00  \n",
       "34      IRT  REGULAR  1347466.0  755446.0 0 days 04:00:00  "
      ]
     },
     "execution_count": 39,
     "metadata": {},
     "output_type": "execute_result"
    }
   ],
   "source": [
    "df_ca_scp_example.iloc[25:35]"
   ]
  },
  {
   "cell_type": "markdown",
   "metadata": {},
   "source": [
    "- Neste exemplo, aparecem valores fora do intervalo de 4h, entretanto os valores no intervalo também aparecem."
   ]
  },
  {
   "cell_type": "markdown",
   "metadata": {},
   "source": [
    "### Reindexação com frequência"
   ]
  },
  {
   "cell_type": "code",
   "execution_count": 40,
   "metadata": {},
   "outputs": [],
   "source": [
    "df_ca_scp_example = df_ca_scp_example.set_index('time')\n",
    "df_ca_scp_example = df_ca_scp_example.asfreq('4H')"
   ]
  },
  {
   "cell_type": "markdown",
   "metadata": {},
   "source": [
    "- Nessa amostra foi possível utilizar a frequência de 4h para indexar a base corretamente, removendo boa parte dos ruídos"
   ]
  },
  {
   "cell_type": "code",
   "execution_count": 41,
   "metadata": {},
   "outputs": [],
   "source": [
    "df_ca_scp_example.reset_index(inplace=True)"
   ]
  },
  {
   "cell_type": "code",
   "execution_count": 42,
   "metadata": {},
   "outputs": [],
   "source": [
    "df_ca_scp_example['time_diff'] = df_ca_scp_example['time'] - df_ca_scp_example.shift(1)['time']"
   ]
  },
  {
   "cell_type": "markdown",
   "metadata": {},
   "source": [
    "### Diferenciação com lag 1 para obter os dados por dia ao invés dos valores acumulados"
   ]
  },
  {
   "cell_type": "code",
   "execution_count": 43,
   "metadata": {},
   "outputs": [],
   "source": [
    "df_ca_scp_example['entries_diff'] = df_ca_scp_example['entries'] - df_ca_scp_example['entries'].shift(1)"
   ]
  },
  {
   "cell_type": "code",
   "execution_count": 44,
   "metadata": {},
   "outputs": [
    {
     "data": {
      "text/plain": [
       "<matplotlib.axes._subplots.AxesSubplot at 0x7f6e06176dd0>"
      ]
     },
     "execution_count": 44,
     "metadata": {},
     "output_type": "execute_result"
    },
    {
     "data": {
      "image/png": "[encoded data removed]",
      "text/plain": [
       "<Figure size 432x288 with 1 Axes>"
      ]
     },
     "metadata": {
      "needs_background": "light"
     },
     "output_type": "display_data"
    }
   ],
   "source": [
    "df_ca_scp_example.plot(x='time', y='entries_diff')"
   ]
  },
  {
   "cell_type": "code",
   "execution_count": 45,
   "metadata": {},
   "outputs": [],
   "source": [
    "df_ca_scp_example['exits_diff'] = df_ca_scp_example['exits'] - df_ca_scp_example['exits'].shift(1)"
   ]
  },
  {
   "cell_type": "code",
   "execution_count": 46,
   "metadata": {},
   "outputs": [
    {
     "data": {
      "text/plain": [
       "<matplotlib.axes._subplots.AxesSubplot at 0x7f6e0730eb50>"
      ]
     },
     "execution_count": 46,
     "metadata": {},
     "output_type": "execute_result"
    },
    {
     "data": {
      "image/png": "[encoded data removed]",
      "text/plain": [
       "<Figure size 432x288 with 1 Axes>"
      ]
     },
     "metadata": {
      "needs_background": "light"
     },
     "output_type": "display_data"
    }
   ],
   "source": [
    "df_ca_scp_example.plot(x='time', y='exits_diff')"
   ]
  },
  {
   "cell_type": "markdown",
   "metadata": {},
   "source": [
    "### Análise do outlier\n",
    "Quando é aplicado a diferenciação, apenas um um valor fica com a escala bem distinta, enquanto nos valores acumulados os depados estavam separados em duas faixas, basicamente. Ressaltando que esse comportamento é específico desta amostra, o que não é garantido para todas."
   ]
  },
  {
   "cell_type": "code",
   "execution_count": 47,
   "metadata": {},
   "outputs": [
    {
     "data": {
      "text/plain": [
       "<matplotlib.axes._subplots.AxesSubplot at 0x7f6e08290050>"
      ]
     },
     "execution_count": 47,
     "metadata": {},
     "output_type": "execute_result"
    },
    {
     "data": {
      "image/png": "[encoded data removed]",
      "text/plain": [
       "<Figure size 432x288 with 1 Axes>"
      ]
     },
     "metadata": {
      "needs_background": "light"
     },
     "output_type": "display_data"
    }
   ],
   "source": [
    "df_ca_scp_example['entries_diff'].plot(kind='box')"
   ]
  },
  {
   "cell_type": "code",
   "execution_count": 48,
   "metadata": {},
   "outputs": [
    {
     "data": {
      "text/plain": [
       "<matplotlib.axes._subplots.AxesSubplot at 0x7f6e05121210>"
      ]
     },
     "execution_count": 48,
     "metadata": {},
     "output_type": "execute_result"
    },
    {
     "data": {
      "image/png": "[encoded data removed]",
      "text/plain": [
       "<Figure size 432x288 with 1 Axes>"
      ]
     },
     "metadata": {
      "needs_background": "light"
     },
     "output_type": "display_data"
    }
   ],
   "source": [
    "df_ca_scp_example['exits_diff'].plot(kind='box')"
   ]
  },
  {
   "cell_type": "code",
   "execution_count": 49,
   "metadata": {},
   "outputs": [
    {
     "data": {
      "text/plain": [
       "<matplotlib.axes._subplots.AxesSubplot at 0x7f6e067146d0>"
      ]
     },
     "execution_count": 49,
     "metadata": {},
     "output_type": "execute_result"
    },
    {
     "data": {
      "image/png": "[encoded data removed]",
      "text/plain": [
       "<Figure size 432x288 with 1 Axes>"
      ]
     },
     "metadata": {
      "needs_background": "light"
     },
     "output_type": "display_data"
    }
   ],
   "source": [
    "df_ca_scp_example.drop(1912).plot(x='time', y='entries')"
   ]
  },
  {
   "cell_type": "code",
   "execution_count": 50,
   "metadata": {},
   "outputs": [
    {
     "data": {
      "text/plain": [
       "<matplotlib.axes._subplots.AxesSubplot at 0x7f6e077f9590>"
      ]
     },
     "execution_count": 50,
     "metadata": {},
     "output_type": "execute_result"
    },
    {
     "data": {
      "image/png": "[encoded data removed]",
      "text/plain": [
       "<Figure size 432x288 with 1 Axes>"
      ]
     },
     "metadata": {
      "needs_background": "light"
     },
     "output_type": "display_data"
    }
   ],
   "source": [
    "df_ca_scp_example.plot(x='time', y='entries_diff')"
   ]
  },
  {
   "cell_type": "markdown",
   "metadata": {},
   "source": [
    "#### Substituição do outlier \n",
    "(encontrado na diferenciação por conta da mudança de escala) pelo valor do mesmo dia na semana anterior"
   ]
  },
  {
   "cell_type": "code",
   "execution_count": 51,
   "metadata": {},
   "outputs": [
    {
     "data": {
      "text/plain": [
       "448     65730662.0\n",
       "2080         400.0\n",
       "2008         384.0\n",
       "2038         384.0\n",
       "2014         376.0\n",
       "Name: entries_diff, dtype: float64"
      ]
     },
     "execution_count": 51,
     "metadata": {},
     "output_type": "execute_result"
    }
   ],
   "source": [
    "df_ca_scp_example['entries_diff'].sort_values(ascending=False).head()"
   ]
  },
  {
   "cell_type": "code",
   "execution_count": 52,
   "metadata": {},
   "outputs": [
    {
     "data": {
      "text/html": [
       "<div>\n",
       "<style scoped>\n",
       "    .dataframe tbody tr th:only-of-type {\n",
       "        vertical-align: middle;\n",
       "    }\n",
       "\n",
       "    .dataframe tbody tr th {\n",
       "        vertical-align: top;\n",
       "    }\n",
       "\n",
       "    .dataframe thead th {\n",
       "        text-align: right;\n",
       "    }\n",
       "</style>\n",
       "<table border=\"1\" class=\"dataframe\">\n",
       "  <thead>\n",
       "    <tr style=\"text-align: right;\">\n",
       "      <th></th>\n",
       "      <th>time</th>\n",
       "      <th>ca</th>\n",
       "      <th>unit</th>\n",
       "      <th>scp</th>\n",
       "      <th>station</th>\n",
       "      <th>linename</th>\n",
       "      <th>division</th>\n",
       "      <th>desc</th>\n",
       "      <th>entries</th>\n",
       "      <th>exits</th>\n",
       "      <th>time_diff</th>\n",
       "      <th>entries_diff</th>\n",
       "      <th>exits_diff</th>\n",
       "    </tr>\n",
       "  </thead>\n",
       "  <tbody>\n",
       "    <tr>\n",
       "      <th>442</th>\n",
       "      <td>2016-03-14 16:00:00</td>\n",
       "      <td>R610</td>\n",
       "      <td>R057</td>\n",
       "      <td>00-04-01</td>\n",
       "      <td>ATL AV-BARCLAY</td>\n",
       "      <td>2345BDNQR</td>\n",
       "      <td>IRT</td>\n",
       "      <td>REGULAR</td>\n",
       "      <td>1377894.0</td>\n",
       "      <td>768100.0</td>\n",
       "      <td>0 days 04:00:00</td>\n",
       "      <td>253.0</td>\n",
       "      <td>33.0</td>\n",
       "    </tr>\n",
       "    <tr>\n",
       "      <th>448</th>\n",
       "      <td>2016-03-15 16:00:00</td>\n",
       "      <td>R610</td>\n",
       "      <td>R057</td>\n",
       "      <td>00-04-01</td>\n",
       "      <td>ATL AV-BARCLAY</td>\n",
       "      <td>2345BDNQR</td>\n",
       "      <td>IRT</td>\n",
       "      <td>REGULAR</td>\n",
       "      <td>67108896.0</td>\n",
       "      <td>16777234.0</td>\n",
       "      <td>0 days 04:00:00</td>\n",
       "      <td>65730662.0</td>\n",
       "      <td>16008935.0</td>\n",
       "    </tr>\n",
       "  </tbody>\n",
       "</table>\n",
       "</div>"
      ],
      "text/plain": [
       "                   time    ca  unit       scp         station   linename  \\\n",
       "442 2016-03-14 16:00:00  R610  R057  00-04-01  ATL AV-BARCLAY  2345BDNQR   \n",
       "448 2016-03-15 16:00:00  R610  R057  00-04-01  ATL AV-BARCLAY  2345BDNQR   \n",
       "\n",
       "    division     desc     entries       exits       time_diff  entries_diff  \\\n",
       "442      IRT  REGULAR   1377894.0    768100.0 0 days 04:00:00         253.0   \n",
       "448      IRT  REGULAR  67108896.0  16777234.0 0 days 04:00:00    65730662.0   \n",
       "\n",
       "     exits_diff  \n",
       "442        33.0  \n",
       "448  16008935.0  "
      ]
     },
     "execution_count": 52,
     "metadata": {},
     "output_type": "execute_result"
    }
   ],
   "source": [
    "# lag de 6 para obter valor do dia anterior (já que o intervalo é de 4h => 4h * 6 = 24)\n",
    "df_ca_scp_example.loc[[448-6, 448]]"
   ]
  },
  {
   "cell_type": "code",
   "execution_count": 53,
   "metadata": {},
   "outputs": [],
   "source": [
    "df_ca_scp_example.loc[448, 'entries_diff'] = df_ca_scp_example.loc[442, 'entries_diff']"
   ]
  },
  {
   "cell_type": "code",
   "execution_count": 54,
   "metadata": {},
   "outputs": [
    {
     "data": {
      "text/plain": [
       "<matplotlib.axes._subplots.AxesSubplot at 0x7f6e05115b90>"
      ]
     },
     "execution_count": 54,
     "metadata": {},
     "output_type": "execute_result"
    },
    {
     "data": {
      "image/png": "[encoded data removed]",
      "text/plain": [
       "<Figure size 432x288 with 1 Axes>"
      ]
     },
     "metadata": {
      "needs_background": "light"
     },
     "output_type": "display_data"
    }
   ],
   "source": [
    "df_ca_scp_example.plot(x='time', y='entries_diff')"
   ]
  },
  {
   "cell_type": "code",
   "execution_count": 55,
   "metadata": {
    "scrolled": false
   },
   "outputs": [
    {
     "data": {
      "text/plain": [
       "<matplotlib.axes._subplots.AxesSubplot at 0x7f6e05a41250>"
      ]
     },
     "execution_count": 55,
     "metadata": {},
     "output_type": "execute_result"
    },
    {
     "data": {
      "image/png": "[encoded data removed]",
      "text/plain": [
       "<Figure size 720x432 with 1 Axes>"
      ]
     },
     "metadata": {
      "needs_background": "light"
     },
     "output_type": "display_data"
    }
   ],
   "source": [
    "df_ca_scp_example.head(100).plot(x='time', y='entries_diff', figsize=(10, 6))"
   ]
  },
  {
   "cell_type": "markdown",
   "metadata": {},
   "source": [
    "### Exportar dados dessa linha para realizar Forecast\n",
    "- Essa amostra será utilizada para construção de um modelo de série temporal posteriormente"
   ]
  },
  {
   "cell_type": "code",
   "execution_count": 56,
   "metadata": {},
   "outputs": [],
   "source": [
    "df_ca_scp_example.to_csv('../data/processed/data_sample.csv', index=False)"
   ]
  },
  {
   "cell_type": "markdown",
   "metadata": {},
   "source": [
    "## Análise de algumas linhas\n",
    "- A análise acima foi para uma linha específica. Nesta seção, será apresentado o comportamento de outras linhas e alguns tratamentos que ajudam na limpeza e manipulação dos dados"
   ]
  },
  {
   "cell_type": "markdown",
   "metadata": {},
   "source": [
    "### Seleção de amostras"
   ]
  },
  {
   "cell_type": "code",
   "execution_count": 57,
   "metadata": {},
   "outputs": [],
   "source": [
    "list_top_3_ca = df_ca_count.index[:3].tolist()"
   ]
  },
  {
   "cell_type": "code",
   "execution_count": 58,
   "metadata": {},
   "outputs": [],
   "source": [
    "list_ca_scp_top = []\n",
    "for ca in list_top_3_ca:\n",
    "    list_scp = df[df['ca'] == ca]['scp'].value_counts().index[:3].tolist()\n",
    "    list_ca_scp_top.append((ca, list_scp))"
   ]
  },
  {
   "cell_type": "code",
   "execution_count": 59,
   "metadata": {},
   "outputs": [
    {
     "data": {
      "text/plain": [
       "[('PTH05', ['00-04-00', '00-00-02', '00-00-07']),\n",
       " ('R610', ['00-06-01', '00-04-01', '00-03-00']),\n",
       " ('PTH16', ['01-01-00', '01-00-05', '01-00-00'])]"
      ]
     },
     "execution_count": 59,
     "metadata": {},
     "output_type": "execute_result"
    }
   ],
   "source": [
    "list_ca_scp_top"
   ]
  },
  {
   "cell_type": "markdown",
   "metadata": {},
   "source": [
    "### Visualiação do valor de Entries (acumulado)"
   ]
  },
  {
   "cell_type": "code",
   "execution_count": 60,
   "metadata": {},
   "outputs": [
    {
     "data": {
      "image/png": "[encoded data removed]",
      "text/plain": [
       "<Figure size 1296x1008 with 9 Axes>"
      ]
     },
     "metadata": {
      "needs_background": "light"
     },
     "output_type": "display_data"
    }
   ],
   "source": [
    "fig, axs = plt.subplots(3, 3, figsize=(18,14))\n",
    "\n",
    "for i, ca in enumerate(list_ca_scp_top):\n",
    "    for j, scp in enumerate(list_ca_scp_top[i][1]):\n",
    "        df_ca_scp_sample = df[(df['ca'] == ca[0]) & (df['scp'] == scp)]\n",
    "        df_ca_scp_sample.plot(x='time', y='entries', ax=axs[i][j], title=\"{} - {}\".format(ca[0], scp))\n",
    "        \n",
    "plt.tight_layout()"
   ]
  },
  {
   "cell_type": "markdown",
   "metadata": {},
   "source": [
    "É importante notar que aparecem bastante ruiídos nos valores acumulados e em situações diferentes"
   ]
  },
  {
   "cell_type": "markdown",
   "metadata": {},
   "source": [
    "### Distribuição da Diferenciação de Entries (valor a cada 4h, ao invés de acumulado)\n",
    "- Para facilitar a visualização da distribuição, há uma remoção de outliers, considerando valores muito discrepantes de forma simples (> 4000)"
   ]
  },
  {
   "cell_type": "code",
   "execution_count": 61,
   "metadata": {
    "scrolled": false
   },
   "outputs": [
    {
     "data": {
      "image/png": "[encoded data removed]",
      "text/plain": [
       "<Figure size 1296x1008 with 9 Axes>"
      ]
     },
     "metadata": {
      "needs_background": "light"
     },
     "output_type": "display_data"
    }
   ],
   "source": [
    "fig, axs = plt.subplots(3, 3, figsize=(18,14))\n",
    "\n",
    "for i, ca in enumerate(list_ca_scp_top):\n",
    "    for j, scp in enumerate(list_ca_scp_top[i][1]):\n",
    "        df_ca_scp_sample = df[(df['ca'] == ca[0]) & (df['scp'] == scp)]\n",
    "        df_ca_scp_sample['entries_diff'] = df_ca_scp_sample['entries'] - df_ca_scp_sample.shift(1)['entries']\n",
    "        \n",
    "        outliers = df_ca_scp_sample['entries_diff'].abs() > 4000\n",
    "        df_ca_scp_sample.loc[outliers, 'entries_diff'] = None\n",
    "        df_ca_scp_sample['entries_diff'].plot(kind='hist', bins=30, ax=axs[i][j], title=\"{} - {}\".format(ca[0], scp))"
   ]
  },
  {
   "cell_type": "markdown",
   "metadata": {},
   "source": [
    "- É preciso melhor o tratamento dos dados melhor para cada linha, entretando já é possível notar uma diferença entre as amostras.\n",
    "- Já era esperado um volume de dados diferente devido a natureza do problema, em que algumas linhas são mais utilizadas que outras.\n",
    "- É importante notar a diferença para decisões de modelagem (forecast)."
   ]
  },
  {
   "cell_type": "markdown",
   "metadata": {},
   "source": [
    "### Limpeza nos dados\n",
    "Cálculo da diferenciação e detecção dos outliers com zscore.\n",
    "- Após a detecção é atribuído o valor zero\n",
    "- Plot da soma acumulada a partir dos valores gerados"
   ]
  },
  {
   "cell_type": "code",
   "execution_count": 62,
   "metadata": {},
   "outputs": [],
   "source": [
    "def outlier_z_score(df_col):\n",
    "    threshold = 3\n",
    "    mean = df_col.mean()\n",
    "    std = df_col.std()\n",
    "    df_outliers = (mean - df_col) / std\n",
    "    index = df_outliers[df_outliers.abs() > threshold].index\n",
    "    \n",
    "    return index"
   ]
  },
  {
   "cell_type": "code",
   "execution_count": 63,
   "metadata": {},
   "outputs": [],
   "source": [
    "def outlier_boxplot(df_col):\n",
    "    q1 = df_col.quantile(0.25)\n",
    "    q3 = df_col.quantile(0.75)\n",
    "    iqr = q3 - q1 \n",
    "\n",
    "    idx_outlier = df_col[(df_col <= q1 - 1.5 * iqr) | (df_col >= q1 + 1.5 *iqr)].index.tolist()\n",
    "    return idx_outlier"
   ]
  },
  {
   "cell_type": "markdown",
   "metadata": {},
   "source": [
    "#### Limpeza e aplicação em uma amostra"
   ]
  },
  {
   "cell_type": "code",
   "execution_count": 64,
   "metadata": {
    "scrolled": false
   },
   "outputs": [
    {
     "data": {
      "image/png": "[encoded data removed]",
      "text/plain": [
       "<Figure size 1296x1008 with 9 Axes>"
      ]
     },
     "metadata": {
      "needs_background": "light"
     },
     "output_type": "display_data"
    }
   ],
   "source": [
    "fig, axs = plt.subplots(3, 3, figsize=(18,14))\n",
    "\n",
    "for i, ca in enumerate(list_ca_scp_top):\n",
    "    for j, scp in enumerate(list_ca_scp_top[i][1]):\n",
    "        df_ca_scp_sample = df[(df['ca'] == ca[0]) & (df['scp'] == scp)]\n",
    "        df_ca_scp_sample = df_ca_scp_sample.reset_index(drop=True)\n",
    "        \n",
    "        df_ca_scp_sample['entries_diff'] = df_ca_scp_sample['entries'] - df_ca_scp_sample['entries'].shift(1)\n",
    "        \n",
    "        idx_outliers = outlier_z_score(df_ca_scp_sample['entries_diff'])\n",
    "        df_ca_scp_sample.loc[idx_outliers, 'entries_diff'] = 0\n",
    "        \n",
    "        df_ca_scp_sample['entries_cumsum'] = df_ca_scp_sample['entries_diff'].cumsum()\n",
    "        df_ca_scp_sample.plot(x='time', y='entries_cumsum', ax=axs[i][j], title=\"{} - {}\".format(ca[0], scp))\n",
    "        \n",
    "plt.tight_layout()"
   ]
  },
  {
   "cell_type": "markdown",
   "metadata": {},
   "source": [
    "### Agrupamento e aplicação da transformação na base toda"
   ]
  },
  {
   "cell_type": "code",
   "execution_count": 65,
   "metadata": {},
   "outputs": [],
   "source": [
    "df['entries_diff'] = df.groupby(['ca', 'scp', 'station', 'linename'])['entries'].transform(pd.Series.diff)"
   ]
  },
  {
   "cell_type": "code",
   "execution_count": 66,
   "metadata": {},
   "outputs": [],
   "source": [
    "idx_outliers = df.groupby(['ca', 'scp', 'station', 'linename']).apply(\n",
    "    lambda x: outlier_boxplot(x['entries_diff'])\n",
    ")"
   ]
  },
  {
   "cell_type": "code",
   "execution_count": 67,
   "metadata": {},
   "outputs": [],
   "source": [
    "idx_total_outliers = []\n",
    "for i in idx_outliers:\n",
    "    idx_total_outliers.extend(i)"
   ]
  },
  {
   "cell_type": "code",
   "execution_count": 68,
   "metadata": {},
   "outputs": [],
   "source": [
    "df.loc[idx_total_outliers, 'entries_diff'] = 0"
   ]
  },
  {
   "cell_type": "code",
   "execution_count": 69,
   "metadata": {},
   "outputs": [
    {
     "data": {
      "text/plain": [
       "<matplotlib.axes._subplots.AxesSubplot at 0x7f6e07470250>"
      ]
     },
     "execution_count": 69,
     "metadata": {},
     "output_type": "execute_result"
    },
    {
     "data": {
      "image/png": "[encoded data removed]",
      "text/plain": [
       "<Figure size 432x288 with 1 Axes>"
      ]
     },
     "metadata": {
      "needs_background": "light"
     },
     "output_type": "display_data"
    }
   ],
   "source": [
    "df['entries_diff'].plot(kind='box')"
   ]
  },
  {
   "cell_type": "code",
   "execution_count": 70,
   "metadata": {},
   "outputs": [],
   "source": [
    "df.loc[df['entries_diff'] < 0, 'entries_diff'] = 0"
   ]
  },
  {
   "cell_type": "markdown",
   "metadata": {},
   "source": [
    "O valor negativo é proveniente da diferenciação quando os dados estão em escalas distintas. Como a entrada de pessoas é um valor só pode ser positivo, será feita uma correção nesses valores para zero."
   ]
  },
  {
   "cell_type": "markdown",
   "metadata": {},
   "source": [
    "### Novo cumulativo com dados ajustados\n",
    "Agrupamento de acordo com o grão da base"
   ]
  },
  {
   "cell_type": "code",
   "execution_count": 71,
   "metadata": {},
   "outputs": [],
   "source": [
    "df['my_entries'] = df.groupby(['ca', 'scp', 'station', 'linename'])['entries_diff'].transform(pd.Series.cumsum)"
   ]
  },
  {
   "cell_type": "code",
   "execution_count": 72,
   "metadata": {},
   "outputs": [],
   "source": [
    "df_max_cumulative_entries = df.groupby(['ca', 'scp', 'station', 'linename'])['my_entries'].max()"
   ]
  },
  {
   "cell_type": "code",
   "execution_count": 73,
   "metadata": {},
   "outputs": [],
   "source": [
    "df_max_cumulative_entries.sort_values(ascending=False, inplace=True)"
   ]
  },
  {
   "cell_type": "markdown",
   "metadata": {},
   "source": [
    "#### Distribuição do valor acumulado de entries"
   ]
  },
  {
   "cell_type": "code",
   "execution_count": 74,
   "metadata": {},
   "outputs": [
    {
     "data": {
      "text/plain": [
       "<matplotlib.axes._subplots.AxesSubplot at 0x7f6e06e134d0>"
      ]
     },
     "execution_count": 74,
     "metadata": {},
     "output_type": "execute_result"
    },
    {
     "data": {
      "image/png": "[encoded data removed]",
      "text/plain": [
       "<Figure size 432x288 with 1 Axes>"
      ]
     },
     "metadata": {
      "needs_background": "light"
     },
     "output_type": "display_data"
    }
   ],
   "source": [
    "df_max_cumulative_entries.plot(kind='hist', bins=30)"
   ]
  },
  {
   "cell_type": "markdown",
   "metadata": {},
   "source": [
    "#### Top 10 linhas com mais entradas (entries)"
   ]
  },
  {
   "cell_type": "code",
   "execution_count": 75,
   "metadata": {},
   "outputs": [
    {
     "data": {
      "text/plain": [
       "<matplotlib.axes._subplots.AxesSubplot at 0x7f6e081c9e90>"
      ]
     },
     "execution_count": 75,
     "metadata": {},
     "output_type": "execute_result"
    },
    {
     "data": {
      "image/png": "[encoded data removed]",
      "text/plain": [
       "<Figure size 864x576 with 1 Axes>"
      ]
     },
     "metadata": {
      "needs_background": "light"
     },
     "output_type": "display_data"
    }
   ],
   "source": [
    "df_max_cumulative_entries.head(10).sort_values().plot(kind='barh', figsize=(12,8))"
   ]
  },
  {
   "cell_type": "markdown",
   "metadata": {},
   "source": [
    "### Station"
   ]
  },
  {
   "cell_type": "code",
   "execution_count": 76,
   "metadata": {},
   "outputs": [],
   "source": [
    "df_station_entries = df.groupby('station')['entries_diff'].sum()"
   ]
  },
  {
   "cell_type": "code",
   "execution_count": 77,
   "metadata": {},
   "outputs": [
    {
     "data": {
      "text/plain": [
       "station\n",
       "34 ST-PENN STA     30449807.0\n",
       "86 ST              24831692.0\n",
       "14 ST-UNION SQ     23908700.0\n",
       "GRD CNTRL-42 ST    23300160.0\n",
       "34 ST-HERALD SQ    22920904.0\n",
       "                      ...    \n",
       "96 ST-2 AVE               5.0\n",
       "86 ST-2 AVE               0.0\n",
       "ORCHARD BEACH             0.0\n",
       "NEWARK HM HE              0.0\n",
       "72 ST-2 AVE               0.0\n",
       "Name: entries_diff, Length: 379, dtype: float64"
      ]
     },
     "execution_count": 77,
     "metadata": {},
     "output_type": "execute_result"
    }
   ],
   "source": [
    "df_station_entries.sort_values(ascending=False)"
   ]
  },
  {
   "cell_type": "code",
   "execution_count": 78,
   "metadata": {},
   "outputs": [
    {
     "data": {
      "text/plain": [
       "34 ST-PENN STA     220547\n",
       "FULTON ST          213194\n",
       "23 ST              157294\n",
       "GRD CNTRL-42 ST    137631\n",
       "CANAL ST           129899\n",
       "                    ...  \n",
       "PATH WTC 2           1019\n",
       "PATH NEW WTC          155\n",
       "72 ST-2 AVE            85\n",
       "96 ST-2 AVE            80\n",
       "86 ST-2 AVE            75\n",
       "Name: station, Length: 379, dtype: int64"
      ]
     },
     "execution_count": 78,
     "metadata": {},
     "output_type": "execute_result"
    }
   ],
   "source": [
    "df[\"station\"].value_counts()"
   ]
  },
  {
   "cell_type": "code",
   "execution_count": 79,
   "metadata": {},
   "outputs": [
    {
     "name": "stderr",
     "output_type": "stream",
     "text": [
      "/home/milton/anaconda3/envs/nyc-env/lib/python3.7/site-packages/ipykernel_launcher.py:1: FutureWarning: Treating datetime data as categorical rather than numeric in `.describe` is deprecated and will be removed in a future version of pandas. Specify `datetime_is_numeric=True` to silence this warning and adopt the future behavior now.\n",
      "  \"\"\"Entry point for launching an IPython kernel.\n"
     ]
    },
    {
     "data": {
      "text/html": [
       "<div>\n",
       "<style scoped>\n",
       "    .dataframe tbody tr th:only-of-type {\n",
       "        vertical-align: middle;\n",
       "    }\n",
       "\n",
       "    .dataframe tbody tr th {\n",
       "        vertical-align: top;\n",
       "    }\n",
       "\n",
       "    .dataframe thead th {\n",
       "        text-align: right;\n",
       "    }\n",
       "</style>\n",
       "<table border=\"1\" class=\"dataframe\">\n",
       "  <thead>\n",
       "    <tr style=\"text-align: right;\">\n",
       "      <th></th>\n",
       "      <th>time</th>\n",
       "      <th>ca</th>\n",
       "      <th>unit</th>\n",
       "      <th>scp</th>\n",
       "      <th>station</th>\n",
       "      <th>linename</th>\n",
       "      <th>division</th>\n",
       "      <th>desc</th>\n",
       "    </tr>\n",
       "  </thead>\n",
       "  <tbody>\n",
       "    <tr>\n",
       "      <th>count</th>\n",
       "      <td>379</td>\n",
       "      <td>379</td>\n",
       "      <td>379</td>\n",
       "      <td>379</td>\n",
       "      <td>379</td>\n",
       "      <td>379</td>\n",
       "      <td>379</td>\n",
       "      <td>379</td>\n",
       "    </tr>\n",
       "    <tr>\n",
       "      <th>unique</th>\n",
       "      <td>30</td>\n",
       "      <td>379</td>\n",
       "      <td>365</td>\n",
       "      <td>26</td>\n",
       "      <td>379</td>\n",
       "      <td>88</td>\n",
       "      <td>6</td>\n",
       "      <td>1</td>\n",
       "    </tr>\n",
       "    <tr>\n",
       "      <th>top</th>\n",
       "      <td>2016-01-01 00:00:00</td>\n",
       "      <td>A002</td>\n",
       "      <td>R549</td>\n",
       "      <td>00-00-00</td>\n",
       "      <td>59 ST</td>\n",
       "      <td>1</td>\n",
       "      <td>IND</td>\n",
       "      <td>REGULAR</td>\n",
       "    </tr>\n",
       "    <tr>\n",
       "      <th>freq</th>\n",
       "      <td>208</td>\n",
       "      <td>1</td>\n",
       "      <td>4</td>\n",
       "      <td>289</td>\n",
       "      <td>1</td>\n",
       "      <td>38</td>\n",
       "      <td>121</td>\n",
       "      <td>379</td>\n",
       "    </tr>\n",
       "    <tr>\n",
       "      <th>first</th>\n",
       "      <td>2016-01-01 00:00:00</td>\n",
       "      <td>NaN</td>\n",
       "      <td>NaN</td>\n",
       "      <td>NaN</td>\n",
       "      <td>NaN</td>\n",
       "      <td>NaN</td>\n",
       "      <td>NaN</td>\n",
       "      <td>NaN</td>\n",
       "    </tr>\n",
       "    <tr>\n",
       "      <th>last</th>\n",
       "      <td>2016-12-31 05:00:00</td>\n",
       "      <td>NaN</td>\n",
       "      <td>NaN</td>\n",
       "      <td>NaN</td>\n",
       "      <td>NaN</td>\n",
       "      <td>NaN</td>\n",
       "      <td>NaN</td>\n",
       "      <td>NaN</td>\n",
       "    </tr>\n",
       "  </tbody>\n",
       "</table>\n",
       "</div>"
      ],
      "text/plain": [
       "                       time    ca  unit       scp station linename division  \\\n",
       "count                   379   379   379       379     379      379      379   \n",
       "unique                   30   379   365        26     379       88        6   \n",
       "top     2016-01-01 00:00:00  A002  R549  00-00-00   59 ST        1      IND   \n",
       "freq                    208     1     4       289       1       38      121   \n",
       "first   2016-01-01 00:00:00   NaN   NaN       NaN     NaN      NaN      NaN   \n",
       "last    2016-12-31 05:00:00   NaN   NaN       NaN     NaN      NaN      NaN   \n",
       "\n",
       "           desc  \n",
       "count       379  \n",
       "unique        1  \n",
       "top     REGULAR  \n",
       "freq        379  \n",
       "first       NaN  \n",
       "last        NaN  "
      ]
     },
     "execution_count": 79,
     "metadata": {},
     "output_type": "execute_result"
    }
   ],
   "source": [
    "df.drop_duplicates(subset='station').describe(exclude=['number'])"
   ]
  },
  {
   "cell_type": "markdown",
   "metadata": {},
   "source": [
    "### division"
   ]
  },
  {
   "cell_type": "code",
   "execution_count": 80,
   "metadata": {},
   "outputs": [
    {
     "data": {
      "text/plain": [
       "<matplotlib.axes._subplots.AxesSubplot at 0x7f6e06857f90>"
      ]
     },
     "execution_count": 80,
     "metadata": {},
     "output_type": "execute_result"
    },
    {
     "data": {
      "image/png": "[encoded data removed]",
      "text/plain": [
       "<Figure size 432x288 with 1 Axes>"
      ]
     },
     "metadata": {
      "needs_background": "light"
     },
     "output_type": "display_data"
    }
   ],
   "source": [
    "df['division'].value_counts(normalize=True).plot(kind='bar', rot=0)"
   ]
  },
  {
   "cell_type": "code",
   "execution_count": 81,
   "metadata": {},
   "outputs": [
    {
     "data": {
      "text/plain": [
       "<matplotlib.axes._subplots.AxesSubplot at 0x7f6dcabe0650>"
      ]
     },
     "execution_count": 81,
     "metadata": {},
     "output_type": "execute_result"
    },
    {
     "data": {
      "image/png": "[encoded data removed]",
      "text/plain": [
       "<Figure size 432x288 with 1 Axes>"
      ]
     },
     "metadata": {
      "needs_background": "light"
     },
     "output_type": "display_data"
    }
   ],
   "source": [
    "df.groupby('division')['entries_diff'].sum().sort_values(ascending=False).plot(kind='bar', rot=0)"
   ]
  },
  {
   "cell_type": "markdown",
   "metadata": {},
   "source": [
    "## Distribuição de Entries por datas"
   ]
  },
  {
   "cell_type": "markdown",
   "metadata": {},
   "source": [
    "### Dia da semana"
   ]
  },
  {
   "cell_type": "code",
   "execution_count": 83,
   "metadata": {},
   "outputs": [
    {
     "data": {
      "text/plain": [
       "<matplotlib.axes._subplots.AxesSubplot at 0x7f6dcab24b10>"
      ]
     },
     "execution_count": 83,
     "metadata": {},
     "output_type": "execute_result"
    },
    {
     "data": {
      "image/png": "[encoded data removed]",
      "text/plain": [
       "<Figure size 432x288 with 1 Axes>"
      ]
     },
     "metadata": {
      "needs_background": "light"
     },
     "output_type": "display_data"
    }
   ],
   "source": [
    "df_dayofweek_count = df.groupby(df.time.dt.dayofweek)['entries_diff'].sum()\n",
    "ax=df_dayofweek_count.plot(kind='bar')\n",
    "df_dayofweek_count.plot(ax=ax)"
   ]
  },
  {
   "cell_type": "markdown",
   "metadata": {},
   "source": [
    "### Hora do dia"
   ]
  },
  {
   "cell_type": "code",
   "execution_count": 84,
   "metadata": {},
   "outputs": [
    {
     "data": {
      "text/plain": [
       "<matplotlib.axes._subplots.AxesSubplot at 0x7f6dcaa4ecd0>"
      ]
     },
     "execution_count": 84,
     "metadata": {},
     "output_type": "execute_result"
    },
    {
     "data": {
      "image/png": "[encoded data removed]",
      "text/plain": [
       "<Figure size 720x504 with 1 Axes>"
      ]
     },
     "metadata": {
      "needs_background": "light"
     },
     "output_type": "display_data"
    }
   ],
   "source": [
    "df_hour_count = df.groupby(df.time.dt.hour)['entries_diff'].mean()\n",
    "ax=df_hour_count.plot(kind='bar', figsize=(10, 7))\n",
    "df_hour_count.plot(ax=ax)"
   ]
  },
  {
   "cell_type": "markdown",
   "metadata": {},
   "source": [
    "### Mês"
   ]
  },
  {
   "cell_type": "code",
   "execution_count": 86,
   "metadata": {},
   "outputs": [
    {
     "data": {
      "image/png": "[encoded data removed]",
      "text/plain": [
       "<Figure size 720x504 with 1 Axes>"
      ]
     },
     "metadata": {
      "needs_background": "light"
     },
     "output_type": "display_data"
    }
   ],
   "source": [
    "df_hour_count = df.groupby(df.time.dt.month)['entries_diff'].mean()\n",
    "ax=df_hour_count.plot(kind='bar', figsize=(10, 7), rot=0)"
   ]
  },
  {
   "cell_type": "markdown",
   "metadata": {},
   "source": [
    "## Conclusões"
   ]
  },
  {
   "cell_type": "markdown",
   "metadata": {},
   "source": [
    "- A base de dados é bem grande (considerando que essa análise foi feita para um ano apenas e existem outros) e tem diversos níveis que podem ser analisadas (CA, Station, etc).\n",
    "- Existem diversas divisões no metrô de NYC.\n",
    "- Os dados apresentam ruídos, mudanças de escala e algumas lacunas de informação. Além disso, o tempo nem sempre é regular, a proposta é dos intervalos serem de 4h, mas tem linhas que o intervalo geralmente é de 4h12min, por exemplo. \n",
    "- É necessário alguns tratamento nos dados. Nesse notebook, foi realizado um tratamento mais específico e detalhado em uma amostra e outras generalizações. Esta última precisa ser analisada com mais detalhes, pois os dados são bem diversos.\n",
    "- A amostra filtratada e refinada foi exportada para uma etapa posterior de modelagem.\n",
    "- A base contém informações de entrada e saída. Nesse trabalho foi selecionado o valor de Entries (entradas) como a informação a ser modelada. O dado foi tratado para conter as informações do intervalo ao invés do acumulado."
   ]
  }
 ],
 "metadata": {
  "kernelspec": {
   "display_name": "Python 3 (ipykernel)",
   "language": "python",
   "name": "python3"
  },
  "language_info": {
   "codemirror_mode": {
    "name": "ipython",
    "version": 3
   },
   "file_extension": ".py",
   "mimetype": "text/x-python",
   "name": "python",
   "nbconvert_exporter": "python",
   "pygments_lexer": "ipython3",
   "version": "3.7.6"
  }
 },
 "nbformat": 4,
 "nbformat_minor": 4
}
